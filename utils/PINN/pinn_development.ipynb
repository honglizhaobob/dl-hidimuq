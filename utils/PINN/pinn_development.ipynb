{
 "cells": [
  {
   "cell_type": "code",
   "execution_count": null,
   "id": "560a7c88",
   "metadata": {},
   "outputs": [],
   "source": [
    "import torch\n",
    "import torch.nn\n",
    "import numpy as np\n",
    "import scipy\n",
    "import scipy.io\n",
    "import PhysicsInformedROCDF\n",
    "import matplotlib.pyplot as plt\n",
    "from matplotlib import cm\n",
    "# visualizing torch net\n",
    "from torchviz import make_dot"
   ]
  },
  {
   "cell_type": "markdown",
   "id": "a8f4b858",
   "metadata": {},
   "source": [
    "### Test Training"
   ]
  },
  {
   "cell_type": "markdown",
   "id": "bbf980e9",
   "metadata": {},
   "source": [
    "#### (a) Data Loss Only"
   ]
  },
  {
   "cell_type": "code",
   "execution_count": null,
   "id": "38050e6c",
   "metadata": {},
   "outputs": [],
   "source": [
    "pinn = PhysicsInformedROCDF.PhysicsInformedROCDF(2, 1, Fmc_data_path=\"/Fqoi.mat\")\n",
    "X = pinn.pde_data[0]\n",
    "y_true = pinn.fmc_data"
   ]
  },
  {
   "cell_type": "code",
   "execution_count": null,
   "id": "1804dba3",
   "metadata": {},
   "outputs": [],
   "source": [
    "params = pinn.parameters()\n",
    "optimizer = torch.optim.Adam(params, lr=1e-3)\n",
    "batch_size = 2**10\n",
    "epochs = 200\n",
    "PhysicsInformedROCDF.train(X, y_true, model=pinn, \n",
    "                               optim=optimizer, \n",
    "                               scheduler=None, \n",
    "                               batch_size=batch_size, \n",
    "                               epochs=epochs, \n",
    "                               mode=\"data_only\", \n",
    "                               early_stopping=1e-6,\n",
    "                               shuffle=True)"
   ]
  },
  {
   "cell_type": "markdown",
   "id": "59b36999",
   "metadata": {},
   "source": [
    "### Approximate PDE Solution"
   ]
  },
  {
   "cell_type": "code",
   "execution_count": null,
   "id": "77456710",
   "metadata": {},
   "outputs": [],
   "source": [
    "# unpack grid data\n",
    "xgrid = pinn.xgrid\n",
    "tgrid = pinn.tgrid\n",
    "nx = len(xgrid)\n",
    "nt = len(tgrid)\n",
    "\n",
    "y_true = pinn.fmc_data.detach().numpy().reshape(nt, nx)\n",
    "y_pred = pinn(X).detach().numpy().reshape(nt, nx)\n",
    "# plotting\n",
    "xgrid_plot, tgrid_plot = np.meshgrid(xgrid, tgrid)\n",
    "plt.figure(1, figsize=(10, 8));\n",
    "fig, ax = plt.subplots(subplot_kw={\"projection\": \"3d\"})\n",
    "surf = ax.plot_surface(xgrid_plot, tgrid_plot, y_true, cmap=cm.coolwarm,\n",
    "                       linewidth=0, antialiased=False);\n",
    "ax.set_xlabel(\"space (x)\"); ax.set_ylabel(\"time (t)\"); ax.set_zlabel(\"u(x, t)\");\n",
    "ax.set_title(\"Monte Carlo Solution\");\n",
    "\n",
    "# PINN solution\n",
    "plt.figure(2, figsize=(10, 8));\n",
    "fig, ax = plt.subplots(subplot_kw={\"projection\": \"3d\"})\n",
    "surf = ax.plot_surface(xgrid_plot, tgrid_plot, y_pred, cmap=cm.coolwarm,\n",
    "                       linewidth=0, antialiased=False);\n",
    "ax.set_xlabel(\"space (x)\"); ax.set_ylabel(\"time (t)\"); ax.set_zlabel(\"u(x, t)\");\n",
    "ax.set_title(\"Approximate Solution, Data Loss Only\");"
   ]
  },
  {
   "cell_type": "markdown",
   "id": "7d28e9b9",
   "metadata": {},
   "source": [
    "#### (b) PDE Loss only"
   ]
  },
  {
   "cell_type": "code",
   "execution_count": null,
   "id": "c054c312",
   "metadata": {},
   "outputs": [],
   "source": [
    "pinn = PhysicsInformedROCDF.PhysicsInformedROCDF(2, 1, Fmc_data_path=\"/Fqoi.mat\")\n",
    "X = pinn.pde_data[0]\n",
    "y_true = pinn.fmc_data\n",
    "\n",
    "params = pinn.parameters()\n",
    "optimizer = torch.optim.Adam(params, lr=1e-3)\n",
    "batch_size = 2**10\n",
    "epochs = 10\n",
    "PhysicsInformedROCDF.train(X, y_true, model=pinn, \n",
    "                               optim=optimizer, \n",
    "                               scheduler=None, \n",
    "                               batch_size=batch_size, \n",
    "                               epochs=epochs, \n",
    "                               mode=\"physics_only\", \n",
    "                               early_stopping=1e-6,\n",
    "                               shuffle=True)"
   ]
  },
  {
   "cell_type": "code",
   "execution_count": null,
   "id": "b5e7bd7e",
   "metadata": {},
   "outputs": [],
   "source": [
    "# unpack grid data\n",
    "xgrid = pinn.xgrid\n",
    "tgrid = pinn.tgrid\n",
    "nx = len(xgrid)\n",
    "nt = len(tgrid)\n",
    "\n",
    "y_true = pinn.fmc_data.detach().numpy().reshape(nt, nx)\n",
    "y_pred = pinn(X).detach().numpy().reshape(nt, nx)\n",
    "# plotting\n",
    "xgrid_plot, tgrid_plot = np.meshgrid(xgrid, tgrid)\n",
    "plt.figure(1, figsize=(10, 8));\n",
    "fig, ax = plt.subplots(subplot_kw={\"projection\": \"3d\"})\n",
    "surf = ax.plot_surface(xgrid_plot, tgrid_plot, y_true, cmap=cm.coolwarm,\n",
    "                       linewidth=0, antialiased=False);\n",
    "ax.set_xlabel(\"space (x)\"); ax.set_ylabel(\"time (t)\"); ax.set_zlabel(\"u(x, t)\");\n",
    "ax.set_title(\"Monte Carlo Solution\");\n",
    "\n",
    "# PINN solution\n",
    "plt.figure(2, figsize=(10, 8));\n",
    "fig, ax = plt.subplots(subplot_kw={\"projection\": \"3d\"})\n",
    "surf = ax.plot_surface(xgrid_plot, tgrid_plot, y_pred, cmap=cm.coolwarm,\n",
    "                       linewidth=0, antialiased=False);\n",
    "ax.set_xlabel(\"space (x)\"); ax.set_ylabel(\"time (t)\"); ax.set_zlabel(\"u(x, t)\");\n",
    "ax.set_title(\"Approximate Solution, PDE Loss Only\");"
   ]
  },
  {
   "cell_type": "code",
   "execution_count": null,
   "id": "b8b1c9b4",
   "metadata": {},
   "outputs": [],
   "source": []
  },
  {
   "cell_type": "markdown",
   "id": "35f6ae48",
   "metadata": {},
   "source": [
    "#### (c) Mixed Loss"
   ]
  },
  {
   "cell_type": "code",
   "execution_count": null,
   "id": "2a944591",
   "metadata": {},
   "outputs": [],
   "source": [
    "pinn = PhysicsInformedROCDF.PhysicsInformedROCDF(2, 1, Fmc_data_path=\"/Fqoi.mat\")\n",
    "X = pinn.pde_data[0]\n",
    "y_true = pinn.fmc_data\n",
    "\n",
    "params = pinn.parameters()\n",
    "optimizer = torch.optim.Adam(params, lr=5e-3)\n",
    "batch_size = 2**9\n",
    "epochs = 1000\n",
    "PhysicsInformedROCDF.train(X, y_true, model=pinn, \n",
    "                               optim=optimizer, \n",
    "                               scheduler=None, \n",
    "                               batch_size=batch_size, \n",
    "                               epochs=epochs, \n",
    "                               mode=\"all\", \n",
    "                               early_stopping=1e-5,\n",
    "                               shuffle=True,\n",
    "                               batch_print=500)"
   ]
  },
  {
   "cell_type": "code",
   "execution_count": null,
   "id": "06c19859",
   "metadata": {},
   "outputs": [],
   "source": [
    "# unpack grid data\n",
    "xgrid = pinn.xgrid\n",
    "tgrid = pinn.tgrid\n",
    "nx = len(xgrid)\n",
    "nt = len(tgrid)\n",
    "\n",
    "y_true = pinn.fmc_data.detach().numpy().reshape(nt, nx)\n",
    "y_pred = pinn(X).detach().numpy().reshape(nt, nx)\n",
    "# plotting\n",
    "xgrid_plot, tgrid_plot = np.meshgrid(xgrid, tgrid)\n",
    "plt.figure(1, figsize=(10, 8));\n",
    "fig, ax = plt.subplots(subplot_kw={\"projection\": \"3d\"})\n",
    "surf = ax.plot_surface(xgrid_plot, tgrid_plot, y_true, cmap=cm.coolwarm,\n",
    "                       linewidth=0, antialiased=False);\n",
    "ax.set_xlabel(\"space (x)\"); ax.set_ylabel(\"time (t)\"); ax.set_zlabel(\"u(x, t)\");\n",
    "ax.set_title(\"Monte Carlo Solution\");\n",
    "\n",
    "# PINN solution\n",
    "plt.figure(2, figsize=(10, 8));\n",
    "fig, ax = plt.subplots(subplot_kw={\"projection\": \"3d\"})\n",
    "surf = ax.plot_surface(xgrid_plot, tgrid_plot, y_pred, cmap=cm.coolwarm,\n",
    "                       linewidth=0, antialiased=False);\n",
    "ax.set_xlabel(\"space (x)\"); ax.set_ylabel(\"time (t)\"); ax.set_zlabel(\"u(x, t)\");\n",
    "ax.set_title(\"Approximate Solution, Physics+Data Loss\");"
   ]
  },
  {
   "cell_type": "code",
   "execution_count": null,
   "id": "7acc7104",
   "metadata": {},
   "outputs": [],
   "source": [
    "''"
   ]
  },
  {
   "cell_type": "code",
   "execution_count": null,
   "id": "0fa26326",
   "metadata": {},
   "outputs": [],
   "source": []
  },
  {
   "cell_type": "code",
   "execution_count": null,
   "id": "b4a327aa",
   "metadata": {},
   "outputs": [],
   "source": []
  }
 ],
 "metadata": {
  "kernelspec": {
   "display_name": "Python 3 (ipykernel)",
   "language": "python",
   "name": "python3"
  },
  "language_info": {
   "codemirror_mode": {
    "name": "ipython",
    "version": 3
   },
   "file_extension": ".py",
   "mimetype": "text/x-python",
   "name": "python",
   "nbconvert_exporter": "python",
   "pygments_lexer": "ipython3",
   "version": "3.9.12"
  }
 },
 "nbformat": 4,
 "nbformat_minor": 5
}
