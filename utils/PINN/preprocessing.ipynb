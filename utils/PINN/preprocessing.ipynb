{
 "cells": [
  {
   "cell_type": "code",
   "execution_count": null,
   "id": "75f515ea",
   "metadata": {},
   "outputs": [],
   "source": [
    "import torch\n",
    "import torch.nn\n",
    "import numpy as np\n",
    "import scipy\n",
    "import scipy.io\n",
    "import PhysicsInformedROCDF\n",
    "import matplotlib.pyplot as plt\n",
    "from matplotlib import cm\n",
    "# make sure \"../Fqoi.mat\" can be found"
   ]
  },
  {
   "cell_type": "markdown",
   "id": "96871dfe",
   "metadata": {},
   "source": [
    "#### Visualization"
   ]
  },
  {
   "cell_type": "code",
   "execution_count": null,
   "id": "87dcb928",
   "metadata": {},
   "outputs": [],
   "source": [
    "data = scipy.io.loadmat(\"./Fqoi.mat\")\n",
    "data.keys()"
   ]
  },
  {
   "cell_type": "code",
   "execution_count": null,
   "id": "c10b3570",
   "metadata": {},
   "outputs": [],
   "source": [
    "tgrid = data['t_grid']\n",
    "tmin, tmax = min(tgrid), max(tgrid)\n",
    "nt = len(tgrid)\n",
    "print(\"Range of tgrid = {}, {}, num points = {}\".format(tmin, tmax, nt))\n",
    "xgrid = data['x_grid']\n",
    "xmin, xmax = min(xgrid), max(xgrid)\n",
    "nx = len(xgrid)\n",
    "print(\"Range of xgrid = {}, {}, num points = {}\".format(xmin, xmax, nx))\n",
    "# mc solution\n",
    "u_data = data['Fqoi']\n",
    "print(\"Shape of u_data = {}\".format(u_data.shape))\n",
    "# visualize solution\n",
    "xgrid_plot, tgrid_plot = np.meshgrid(xgrid, tgrid)\n",
    "plt.figure(1, figsize=(10, 8));\n",
    "fig, ax = plt.subplots(subplot_kw={\"projection\": \"3d\"})\n",
    "surf = ax.plot_surface(xgrid_plot, tgrid_plot, u_data.T, cmap=cm.coolwarm,\n",
    "                       linewidth=0, antialiased=False);\n",
    "ax.set_xlabel(\"space (x)\"); ax.set_ylabel(\"time (t)\"); ax.set_zlabel(\"Solution u(x, t)\");"
   ]
  },
  {
   "cell_type": "code",
   "execution_count": null,
   "id": "0f786aa2",
   "metadata": {},
   "outputs": [],
   "source": [
    "diffusion = data['diffusion']\n",
    "print(\"Shape of diffusion = {}\".format(diffusion.shape))\n",
    "hmean = data['hmean']\n",
    "print(\"Shape of <h> = {}\".format(hmean.shape))\n",
    "theta = data['theta']\n",
    "print(\"Shape of theta = {}\".format(theta.shape))\n",
    "Dgam = data['Dgam'][0][0]"
   ]
  },
  {
   "cell_type": "markdown",
   "id": "bb1dd1a1",
   "metadata": {},
   "source": [
    "The stored shape of the Monte Carlo solution $F_{\\text{MC}}$ is $N_x \\times N_t$, we preprocess the diffusion and advection data with the same shape according to the following formulas. The diffusion is already computed in MATLAB and only needs to be repeated along the $x$-axis.\n",
    "\n",
    "$$\n",
    "    \\langle v(x,t)\\rangle = \\frac{1}{D_{\\gamma}}(\\theta(x) - \\langle h(t)\\rangle)\n",
    "$$"
   ]
  },
  {
   "cell_type": "code",
   "execution_count": null,
   "id": "d5bcee08",
   "metadata": {},
   "outputs": [],
   "source": [
    "# compute advection at each grid point\n",
    "advection = (theta - hmean.T)\n",
    "plt.figure(1, figsize=(10, 8));\n",
    "fig, ax = plt.subplots(subplot_kw={\"projection\": \"3d\"})\n",
    "surf = ax.plot_surface(xgrid_plot, tgrid_plot, advection.T, cmap=cm.coolwarm,\n",
    "                       linewidth=0, antialiased=False);\n",
    "ax.set_xlabel(\"space (x)\"); ax.set_ylabel(\"time (t)\"); ax.set_zlabel(\"Advection <v(x, t)>\");"
   ]
  },
  {
   "cell_type": "code",
   "execution_count": null,
   "id": "07dc8500",
   "metadata": {},
   "outputs": [],
   "source": [
    "# compute diffusion at each grid point\n",
    "diffusion_plot = np.repeat(diffusion.T, nx, axis=0)\n",
    "plt.figure(1, figsize=(10, 8));\n",
    "fig, ax = plt.subplots(subplot_kw={\"projection\": \"3d\"})\n",
    "surf = ax.plot_surface(xgrid_plot, tgrid_plot, diffusion_plot.T, cmap=cm.coolwarm,\n",
    "                       linewidth=0, antialiased=False);\n",
    "ax.set_xlabel(\"space (x)\"); ax.set_ylabel(\"time (t)\"); ax.set_zlabel(\"Diffusion(x, t)\");"
   ]
  },
  {
   "cell_type": "markdown",
   "id": "feafac09",
   "metadata": {},
   "source": [
    "Save preprocessed data"
   ]
  },
  {
   "cell_type": "code",
   "execution_count": null,
   "id": "5d9eb0c2",
   "metadata": {},
   "outputs": [],
   "source": [
    "scipy.io.savemat(\"./PINNCDF/Fqoi.mat\", {\"Dgam\": Dgam, \"advection\": advection, \"diffusion\": diffusion_plot, \n",
    "                                       \"x_grid\": xgrid, \"t_grid\": tgrid, \"Fqoi\": u_data})"
   ]
  },
  {
   "cell_type": "markdown",
   "id": "5d3d1345",
   "metadata": {},
   "source": [
    "### Development Experiments"
   ]
  },
  {
   "cell_type": "code",
   "execution_count": null,
   "id": "a34c6966",
   "metadata": {},
   "outputs": [],
   "source": [
    "pinn = PhysicsInformedROCDF.PhysicsInformedROCDF(2, 1, Fmc_data_path=\"/Fqoi.mat\")"
   ]
  },
  {
   "cell_type": "code",
   "execution_count": null,
   "id": "d6aaec1c",
   "metadata": {},
   "outputs": [],
   "source": [
    "X = pinn.pde_data[0]\n",
    "y_true = pinn.fmc_data"
   ]
  },
  {
   "cell_type": "code",
   "execution_count": null,
   "id": "8419ba09",
   "metadata": {},
   "outputs": [],
   "source": [
    "y_true[X[:, 1][:, None] == pinn.xmax]"
   ]
  },
  {
   "cell_type": "code",
   "execution_count": null,
   "id": "c5e5f648",
   "metadata": {},
   "outputs": [],
   "source": [
    "X[:, 0]"
   ]
  },
  {
   "cell_type": "code",
   "execution_count": null,
   "id": "2f7f15bb",
   "metadata": {},
   "outputs": [],
   "source": [
    "pinn.tmin"
   ]
  },
  {
   "cell_type": "code",
   "execution_count": null,
   "id": "aa5e2069",
   "metadata": {},
   "outputs": [],
   "source": [
    "xmesh, tmesh = np.meshgrid(pinn.xgrid, pinn.tgrid)"
   ]
  },
  {
   "cell_type": "code",
   "execution_count": null,
   "id": "63100271",
   "metadata": {},
   "outputs": [],
   "source": [
    "xmesh"
   ]
  },
  {
   "cell_type": "code",
   "execution_count": null,
   "id": "d5b9f3dd",
   "metadata": {},
   "outputs": [],
   "source": [
    "all_pnts = np.vstack([xmesh.ravel(), tmesh.ravel()]).T"
   ]
  },
  {
   "cell_type": "code",
   "execution_count": null,
   "id": "04e87fff",
   "metadata": {},
   "outputs": [],
   "source": [
    "plt.plot(y_true[all_pnts[:, 0] == pinn.xmin])"
   ]
  },
  {
   "cell_type": "code",
   "execution_count": null,
   "id": "f17df345",
   "metadata": {},
   "outputs": [],
   "source": [
    "plt.plot(y_true[all_pnts[:, 0] == pinn.xmax])"
   ]
  },
  {
   "cell_type": "code",
   "execution_count": null,
   "id": "8157c64e",
   "metadata": {},
   "outputs": [],
   "source": [
    "plt.plot(y_true[all_pnts[:, 1] == pinn.tmin])"
   ]
  },
  {
   "cell_type": "code",
   "execution_count": null,
   "id": "8fd5bc41",
   "metadata": {},
   "outputs": [],
   "source": []
  }
 ],
 "metadata": {
  "kernelspec": {
   "display_name": "Python 3 (ipykernel)",
   "language": "python",
   "name": "python3"
  },
  "language_info": {
   "codemirror_mode": {
    "name": "ipython",
    "version": 3
   },
   "file_extension": ".py",
   "mimetype": "text/x-python",
   "name": "python",
   "nbconvert_exporter": "python",
   "pygments_lexer": "ipython3",
   "version": "3.9.12"
  }
 },
 "nbformat": 4,
 "nbformat_minor": 5
}
