{
 "cells": [
  {
   "cell_type": "code",
   "execution_count": null,
   "id": "4ea9aca1",
   "metadata": {},
   "outputs": [],
   "source": [
    "import numpy as np\n",
    "import torch\n",
    "import torch.nn as nn\n",
    "import torch.optim\n",
    "import torch.distributions.transforms as transform\n",
    "import matplotlib.pyplot as plt\n",
    "\n",
    "from utils.ParticleDataset import *\n",
    "from utils.preprocessing import *\n",
    "from utils.training import *\n",
    "from utils.TemporalNF import *"
   ]
  },
  {
   "cell_type": "code",
   "execution_count": null,
   "id": "668ebf7e",
   "metadata": {},
   "outputs": [],
   "source": [
    "# training\n",
    "dataset = ParticleDataset(\n",
    "    \"/BrownianMotion2d.mat\", \n",
    "    root_dir=os.getcwd()+\"/utils\"+\"/data\"\n",
    ")\n"
   ]
  },
  {
   "cell_type": "code",
   "execution_count": null,
   "id": "864dbea9",
   "metadata": {},
   "outputs": [],
   "source": [
    "tgrid = dataset.raw_dataset['X_train'][:, 0]\n",
    "x1 = dataset.raw_dataset['X_train'][:, 1].reshape(800, 501, -1)\n",
    "x2 = dataset.raw_dataset['X_train'][:, 2].reshape(800, 501, -1)\n",
    "for i in range(500):\n",
    "    sample_x1 = x1[i, :].flatten()\n",
    "    sample_x2 = x2[i, :].flatten()\n",
    "    plt.plot(sample_x1, sample_x2)"
   ]
  },
  {
   "cell_type": "code",
   "execution_count": null,
   "id": "e7a947a5",
   "metadata": {},
   "outputs": [],
   "source": [
    "# create flow blocks\n",
    "realnvp_blocks = [tAutoregressive, tSwapFlow, tBatchNormFlow]\n",
    "# create normalizing flow\n",
    "realnvp_flow = tNormalizingFlow(\n",
    "    space_dim=dataset.dim, \n",
    "    blocks=realnvp_blocks,\n",
    "    flow_length=2\n",
    ")\n",
    "# create log base measure: N(0, 1)\n",
    "normal_logpdf = torch.distributions.multivariate_normal.MultivariateNormal(\n",
    "    torch.zeros(2), torch.eye(2)\n",
    ").log_prob\n",
    "# include time dimension\n",
    "log_base_measure = lambda x: normal_logpdf(x[:, 1:])\n",
    "\n",
    "# train\n",
    "report = train(\n",
    "    dataset, \n",
    "    realnvp_flow,\n",
    "    log_base_measure, \n",
    "    num_epochs=30,\n",
    "    batch_size=2**12,\n",
    "    verbose=True,\n",
    "    lr=5e-3, \n",
    "    use_scheduler=True,\n",
    "    schedule_rate=0.99999,\n",
    "    grad_clip=1e+20\n",
    ")"
   ]
  },
  {
   "cell_type": "code",
   "execution_count": null,
   "id": "17fc923d",
   "metadata": {},
   "outputs": [],
   "source": [
    "# evaluate density on grid\n",
    "x1_grid = np.linspace(-10.0, 10.0, 1000)\n",
    "x2_grid = np.linspace(-10.0, 10.0, 1000)\n",
    "x1_mesh, x2_mesh = np.meshgrid(x1_grid, x2_grid)\n",
    "x_data = np.concatenate([x1_mesh.ravel().reshape(-1, 1), x2_mesh.ravel().reshape(-1, 1)], axis=1)\n",
    "N = x_data.shape[0]\n",
    "# query at time t=1.0\n",
    "t = 1.0 * np.ones(N).reshape(-1, 1)\n",
    "input_data = torch.FloatTensor(np.concatenate([t, x_data], axis=1))\n",
    "# map to density\n",
    "latent = realnvp_flow(input_data)\n",
    "estimated_density = torch.exp(log_base_measure(latent[0]).reshape(-1, 1)+sum(latent[1]).reshape(-1, 1))"
   ]
  },
  {
   "cell_type": "code",
   "execution_count": null,
   "id": "81cb56d2",
   "metadata": {},
   "outputs": [],
   "source": [
    "plt.contourf(estimated_density.reshape(1000, 1000).detach().numpy())"
   ]
  },
  {
   "cell_type": "code",
   "execution_count": null,
   "id": "e657b8c1",
   "metadata": {},
   "outputs": [],
   "source": [
    "plt.contourf(torch.exp(log_base_measure(latent[0])).reshape(-1, 1).reshape(1000, 1000).detach().numpy())"
   ]
  },
  {
   "cell_type": "code",
   "execution_count": null,
   "id": "533b2bd0",
   "metadata": {},
   "outputs": [],
   "source": []
  }
 ],
 "metadata": {
  "kernelspec": {
   "display_name": "Python 3 (ipykernel)",
   "language": "python",
   "name": "python3"
  },
  "language_info": {
   "codemirror_mode": {
    "name": "ipython",
    "version": 3
   },
   "file_extension": ".py",
   "mimetype": "text/x-python",
   "name": "python",
   "nbconvert_exporter": "python",
   "pygments_lexer": "ipython3",
   "version": "3.9.16"
  }
 },
 "nbformat": 4,
 "nbformat_minor": 5
}
