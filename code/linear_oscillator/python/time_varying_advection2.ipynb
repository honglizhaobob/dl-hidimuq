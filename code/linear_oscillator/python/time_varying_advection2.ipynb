{
 "cells": [
  {
   "cell_type": "markdown",
   "id": "c3793dcc",
   "metadata": {},
   "source": [
    "# Learning 1d Pure Advection in Conservative Form\n",
    "\n",
    "To verify that our PINN implementation is working well, we test the PINN on the following problem:\n",
    "$$\n",
    "    \\begin{cases}\n",
    "        u_t + a(t)u_x = 0\\\\\n",
    "        \\lim_{|x|\\rightarrow\\infty}u(t, x) = 0\\\\\n",
    "        u(0, x) = u_0(x)\n",
    "    \\end{cases}\n",
    "$$ where $u_0 = \\mathcal{N}(x|0, 1)$. \n",
    "\n",
    "In this case, the NN solution is assumed to have the following model (conservative advection):\n",
    "$$\n",
    "    \\frac{\\partial u_{\\theta_1}}{\\partial t} + \\frac{\\partial}{\\partial x}\\bigg(\\mathcal{V}_{\\theta_2}(t)u_{\\theta_1}\\bigg) = 0\n",
    "$$\n",
    "\n",
    "In this test case, the true advection velocity is a time-varying function, no spatial dependence. Furthermore, since the coefficient neural network is a time-dependent function, the conservative and non-conservative form of the PDE coincide. In this notebook, we generate data from such a PDE and test the PINN learning in both conservative mode and non-conservative mode.\n",
    "\n",
    "In this note, we use the Fourier embedded deep neural nets to overcome the high frequency in time domain."
   ]
  },
  {
   "cell_type": "code",
   "execution_count": null,
   "id": "015f29a4",
   "metadata": {},
   "outputs": [],
   "source": [
    "from PINN.AdvectionNet import *\n",
    "from PINN.utils.dnn import *\n",
    "# Testing\n",
    "import matplotlib.pyplot as plt\n",
    "import torch\n",
    "import numpy as np\n",
    "import scipy\n",
    "\n",
    "# set random seeds\n",
    "np.random.seed(10)\n",
    "torch.manual_seed(10);\n",
    "\n",
    "import numpy as np    \n",
    "import matplotlib.pyplot as plt\n",
    "\n",
    "import time\n",
    "import pylab as pl\n",
    "from IPython import display\n",
    "from IPython.display import clear_output"
   ]
  },
  {
   "cell_type": "markdown",
   "id": "05f33fe2",
   "metadata": {},
   "source": [
    "# Experiment 1: High Frequency with Vanilla NN\n",
    "\n",
    "Consider the following PDE, taken from: https://scullen.com.au/DSc/Publications/scullen_92.pdf (Page 44)\n",
    "\n",
    "$$\n",
    "    \\frac{\\partial u}{\\partial t} + v_0\\sin(\\omega t)\\frac{\\partial u}{\\partial x} = 0\n",
    "$$ which admits an analytical solution:\n",
    "$$\n",
    "    u(t,x) = \\exp\\bigg(\n",
    "        -k[x - x_0 - 2v_0\\omega^{-1}\\sin^2(\\frac{1}{2}\\omega t)]^2\n",
    "    \\bigg)\n",
    "$$ with parameters $k, x_0$ from the initial condition."
   ]
  },
  {
   "cell_type": "code",
   "execution_count": null,
   "id": "6fd1d627",
   "metadata": {},
   "outputs": [],
   "source": [
    "# parameters\n",
    "x0 = 2.0\n",
    "v0 = 2.0\n",
    "k = 5.0\n",
    "omega = 2.0*np.pi\n",
    "# time grid\n",
    "t_start = 0.0\n",
    "t_end = 2*np.pi\n",
    "dt = 0.001\n",
    "tgrid = np.arange(t_start, t_end, dt)\n",
    "nt = len(tgrid)\n",
    "# spatial grid\n",
    "x_left, x_right = 0.0, 5.0\n",
    "dx = 0.005\n",
    "xgrid = np.arange(x_left, x_right, dx)\n",
    "nx = len(xgrid)\n",
    "\n",
    "# solution\n",
    "u_sol = np.zeros([nt, nx])\n",
    "for i in range(nt):\n",
    "    t = tgrid[i]\n",
    "    u_sol[i, :] = np.exp(-k * (( xgrid - x0 ) - (2*v0/omega) * (np.sin(0.5*omega*t) ** 2)) ** 2 )"
   ]
  },
  {
   "cell_type": "code",
   "execution_count": null,
   "id": "e6708ea7",
   "metadata": {},
   "outputs": [],
   "source": [
    "# plot velocity as a function of time\n",
    "plt.figure(2);\n",
    "plt.plot(tgrid, v0*np.sin(omega*tgrid), \"--\", color=\"blue\", alpha=0.6, lw=4.0);\n",
    "plt.xlabel(r\"$t$\"); plt.ylabel(r\"Velocity (High Frequency)\");"
   ]
  },
  {
   "cell_type": "code",
   "execution_count": null,
   "id": "560db494",
   "metadata": {},
   "outputs": [],
   "source": [
    "# save data for PINN training\n",
    "scipy.io.savemat(\"../data/LinearOscillator/Time_Variable_Advection.mat\", {\n",
    "    \"xgrid\": xgrid.reshape(1, -1),\n",
    "    \"tgrid\": tgrid.reshape(1, -1),\n",
    "    \"pmc\": u_sol\n",
    "})\n",
    "\n",
    "# save a smaller dataset\n",
    "subsample_t = 10\n",
    "subsample_x = 5\n",
    "xgrid_small = xgrid.reshape(1, -1)[:, 0:-1:subsample_x].squeeze(),\n",
    "tgrid_small = tgrid.reshape(1, -1)[:, 0:-1:subsample_t].squeeze()\n",
    "u_sol_small = u_sol[0:-1:subsample_t, 0:-1:subsample_x]\n",
    "scipy.io.savemat(\"../data/LinearOscillator/Time_Variable_Advection_small.mat\", {\n",
    "    \"xgrid\": xgrid_small,\n",
    "    \"tgrid\": tgrid_small,\n",
    "    \"pmc\": u_sol_small\n",
    "})\n",
    "print(\"Training data size = {}\\n\".format(u_sol_small.shape))"
   ]
  },
  {
   "cell_type": "code",
   "execution_count": null,
   "id": "8d2ab123",
   "metadata": {},
   "outputs": [],
   "source": [
    "plt.figure(1, figsize=(10, 10));\n",
    "plt.imshow(u_sol_small);\n",
    "plt.title(\"Training Data\");"
   ]
  },
  {
   "cell_type": "markdown",
   "id": "e03a37d9",
   "metadata": {},
   "source": [
    "Directly train the net on solution as a regression problem (data loss only)"
   ]
  },
  {
   "cell_type": "code",
   "execution_count": null,
   "id": "d3aaffde",
   "metadata": {},
   "outputs": [],
   "source": [
    "# create training data from grids\n",
    "X = cartesian_data(torch.tensor(tgrid_small.flatten()), torch.tensor(xgrid_small[0].flatten()))\n",
    "y = torch.tensor(u_sol_small).T.flatten().reshape(-1, 1)\n",
    "def train(inputs, outputs, model, optim, scheduler, batch_size, epochs, shuffle=True):\n",
    "    X, y = inputs, outputs\n",
    "    nx = X.shape[0]\n",
    "    num_batches = int(nx/batch_size)\n",
    "    for i in range(epochs):\n",
    "        print(\"============================================================\\n\")\n",
    "        print(\"Epoch = {}\\n\".format(i+1));\n",
    "        print(\"============================================================\\n\")\n",
    "        model.train()\n",
    "        if shuffle:\n",
    "            tmp = np.random.permutation(nx)\n",
    "            X, y = X[tmp, :].data.clone(), y[tmp, :].data.clone()\n",
    "        for idx in range(num_batches):\n",
    "            if idx % 100 == 0:\n",
    "                print(\"| => | Batch {} |\\n\".format(idx+1))\n",
    "        # closure definition\n",
    "            def closure():\n",
    "                optim.zero_grad()\n",
    "                start_idx = idx*batch_size\n",
    "                end_idx = (idx+1)*batch_size\n",
    "                if idx + 1 == num_batches:\n",
    "                    # if last batch\n",
    "                    end_idx = -1\n",
    "                Xb, yb = X[start_idx:end_idx, :].data.clone(), y[start_idx:end_idx, :].data.clone()\n",
    "\n",
    "                # require gradients\n",
    "                Xb.requires_grad = True\n",
    "                # make a prediction on the batch\n",
    "                y_pred = model.forward(Xb)\n",
    "                # compute L^2 loss\n",
    "                loss = torch.mean((y_pred - yb)**2)\n",
    "                # backpropagate\n",
    "                loss.backward()\n",
    "                if idx % 100 == 0:\n",
    "                    print(\"==> Batch {} loss = {}\".format(idx, loss.item()))\n",
    "                return loss\n",
    "            optim.step(closure=closure)\n",
    "        if scheduler:\n",
    "            # step scheduler after epoch if there is one\n",
    "            scheduler.step()\n",
    "            print(\"---------- \\n\")\n",
    "            print(\"++ Learning rate reduced, now at = {}\".format(scheduler.get_last_lr()[0]))"
   ]
  },
  {
   "cell_type": "code",
   "execution_count": null,
   "id": "e7700e53",
   "metadata": {},
   "outputs": [],
   "source": [
    "nn_fourier2d_cartesian = FourierProductEmbeddedDNN2d(\n",
    "    layers_time=[30, 200, 200, 1], \n",
    "    layers_space=[30, 200, 200, 1], \n",
    "    activation=torch.nn.Tanh, \n",
    "    last_layer_activation=None, \n",
    "    mt=15, \n",
    "    mx=15, \n",
    "    freq_stds_t=[1.,2., 5., 10.], \n",
    "    freq_stds_x=[1., 2., 5., 10.]\n",
    ")\n",
    "optim = torch.optim.Adam(\n",
    "    nn_fourier2d_cartesian.parameters(),\n",
    "    lr=8e-3\n",
    ")\n",
    "scheduler = torch.optim.lr_scheduler.ExponentialLR(optim, gamma=0.9999)\n",
    "train(X, y, nn_fourier2d_cartesian, optim, scheduler, 2**9, 50, shuffle=True)"
   ]
  },
  {
   "cell_type": "code",
   "execution_count": null,
   "id": "4a548c88",
   "metadata": {},
   "outputs": [],
   "source": [
    "# save model\n",
    "torch.save(nn_fourier2d_cartesian.state_dict(), \"./PINN/models/Fourier2dNet_Time15_Space15\")"
   ]
  },
  {
   "cell_type": "code",
   "execution_count": null,
   "id": "892f4db4",
   "metadata": {},
   "outputs": [],
   "source": [
    "# predict\n",
    "nx_small = len(xgrid_small[0])\n",
    "nt_small = len(tgrid_small)\n",
    "u_sol_predict_fourier = nn_fourier2d_cartesian(X).reshape([nx_small, nt_small]).detach().numpy().T\n",
    "u_sol_exact_fourier = y.reshape([nx_small, nt_small]).detach().numpy().T"
   ]
  },
  {
   "cell_type": "code",
   "execution_count": null,
   "id": "e4e29415",
   "metadata": {},
   "outputs": [],
   "source": [
    "fig, ax = plt.subplots(1, 3, figsize=(15, 10))\n",
    "ax[0].imshow(u_sol_predict_fourier)\n",
    "ax[1].imshow(u_sol_exact_fourier)\n",
    "cax = ax[2].imshow(np.abs(u_sol_exact_fourier-u_sol_predict_fourier));\n",
    "fig.colorbar(cax, orientation='horizontal');"
   ]
  },
  {
   "cell_type": "markdown",
   "id": "8a11e1d4",
   "metadata": {},
   "source": [
    "PINN experiment"
   ]
  },
  {
   "cell_type": "code",
   "execution_count": null,
   "id": "0cd88632",
   "metadata": {},
   "outputs": [],
   "source": [
    "# PINN experiments\n",
    "data_path = \"../data/LinearOscillator/Time_Variable_Advection_small.mat\"\n",
    "# create PINN\n",
    "pinn = AdvectionNet(indim=2, outdim=1, data_path=data_path, scheduler=\"ExponentialLR\", coef_mode=\"time\")"
   ]
  },
  {
   "cell_type": "code",
   "execution_count": null,
   "id": "429afa16",
   "metadata": {},
   "outputs": [],
   "source": [
    "# reinitialize advection coefficient to Fourier-based net\n",
    "pinn.G_nn = FourierEmbeddedDNN(\n",
    "    layers=[30, 50, 50, 1],\n",
    "    activation=torch.nn.Tanh,\n",
    "    last_layer_activation=None,\n",
    "    initialization=None,\n",
    "    m=15,\n",
    "    freq_stds=[1, 2, 5, 10]\n",
    ")\n",
    "pinn.G_nn.mode = \"time\"\n",
    "\n",
    "# reinitialize solution net to Fourier-based net \n",
    "pinn.p_nn = FourierProductEmbeddedDNN2d(\n",
    "    layers_time=[30, 100, 100, 1], \n",
    "    layers_space=[30, 50, 50, 1], \n",
    "    activation=torch.nn.Tanh, \n",
    "    last_layer_activation=None, \n",
    "    mt=15, \n",
    "    mx=15, \n",
    "    freq_stds_t=[1.,2., 10., 20., 100.], \n",
    "    freq_stds_x=[1., 2., 5., 10.]\n",
    ")"
   ]
  },
  {
   "cell_type": "code",
   "execution_count": null,
   "id": "c773c34d",
   "metadata": {
    "scrolled": false
   },
   "outputs": [],
   "source": [
    "# testing training\n",
    "info = train_pinn(\n",
    "    pinn, pinn.optimizer, pinn.scheduler, batch_size=2**9,\n",
    "    epochs=200, batch_print=200, mode=\"all\", conservative_pde=True\n",
    ")"
   ]
  },
  {
   "cell_type": "code",
   "execution_count": null,
   "id": "88c1a278",
   "metadata": {},
   "outputs": [],
   "source": []
  },
  {
   "cell_type": "code",
   "execution_count": null,
   "id": "59d54872",
   "metadata": {},
   "outputs": [],
   "source": []
  },
  {
   "cell_type": "code",
   "execution_count": null,
   "id": "259e2f10",
   "metadata": {},
   "outputs": [],
   "source": []
  },
  {
   "cell_type": "code",
   "execution_count": null,
   "id": "b7e8a532",
   "metadata": {},
   "outputs": [],
   "source": []
  },
  {
   "cell_type": "code",
   "execution_count": null,
   "id": "560fe6e2",
   "metadata": {},
   "outputs": [],
   "source": [
    "inputs = cartesian_data(pinn.tgrid, pinn.xgrid)\n",
    "G_pred = pinn.G_nn(inputs[:, 0][:, None]).reshape([pinn.nx, pinn.nt]).detach().numpy().T\n",
    "# spatial and temporal grid\n",
    "tgrid = pinn.tgrid.detach().numpy()\n",
    "xgrid = pinn.xgrid.detach().numpy()"
   ]
  },
  {
   "cell_type": "code",
   "execution_count": null,
   "id": "3bdac8cb",
   "metadata": {},
   "outputs": [],
   "source": [
    "plt.plot(tgrid, G_pred[:, 0], color=\"red\", lw=2.0, label=\"predicted\");\n",
    "plt.plot(tgrid, v0*np.sin(omega*tgrid), \"--\", color=\"blue\", alpha=0.6, lw=4.0);\n",
    "plt.title(\"Inferred advection coefficient as a function of time (Fourier Net)\");\n",
    "plt.legend();"
   ]
  },
  {
   "cell_type": "code",
   "execution_count": null,
   "id": "3c299d42",
   "metadata": {},
   "outputs": [],
   "source": []
  }
 ],
 "metadata": {
  "kernelspec": {
   "display_name": "Python 3 (ipykernel)",
   "language": "python",
   "name": "python3"
  },
  "language_info": {
   "codemirror_mode": {
    "name": "ipython",
    "version": 3
   },
   "file_extension": ".py",
   "mimetype": "text/x-python",
   "name": "python",
   "nbconvert_exporter": "python",
   "pygments_lexer": "ipython3",
   "version": "3.9.16"
  }
 },
 "nbformat": 4,
 "nbformat_minor": 5
}
