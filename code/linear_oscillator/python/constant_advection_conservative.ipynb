{
 "cells": [
  {
   "cell_type": "markdown",
   "id": "9e0d4096",
   "metadata": {},
   "source": [
    "# Learning 1d Pure Advection in Conservative Form\n",
    "\n",
    "To verify that our PINN implementation is working well, we test the PINN on the following problem:\n",
    "$$\n",
    "    \\begin{cases}\n",
    "        u_t + au_x = 0\\\\\n",
    "        \\lim_{|x|\\rightarrow\\infty}u(t, x) = 0\\\\\n",
    "        u(0, x) = u_0(x)\n",
    "    \\end{cases}\n",
    "$$ where $u_0 = \\mathcal{N}(x|0, 1)$. \n",
    "\n",
    "In this case, the NN solution is assumed to have the following model (conservative advection):\n",
    "$$\n",
    "    \\frac{\\partial u_{\\theta_1}}{\\partial t} + \\frac{\\partial}{\\partial x}\\bigg(\\mathcal{V}_{\\theta_2}(x)u_{\\theta_1}\\bigg) = 0\n",
    "$$\n",
    "\n",
    "The data is generated in `constant_advection.ipynb`."
   ]
  },
  {
   "cell_type": "code",
   "execution_count": null,
   "id": "2e78033d",
   "metadata": {},
   "outputs": [],
   "source": [
    "from PINN.AdvectionNet import *\n",
    "# Testing\n",
    "import matplotlib.pyplot as plt\n",
    "import torch\n",
    "import numpy as np\n",
    "import scipy\n",
    "\n",
    "# set random seeds\n",
    "np.random.seed(10)\n",
    "torch.manual_seed(10);\n",
    "\n",
    "import numpy as np    \n",
    "import matplotlib.pyplot as plt\n",
    "\n",
    "# load data\n",
    "data_path = \"../data/LinearOscillator/Pure_Advection_small_data.mat\"\n",
    "# create PINN\n",
    "pinn = AdvectionNet(indim=2, outdim=1, data_path=data_path, scheduler=\"ExponentialLR\")\n",
    "# testing training\n",
    "info = train(\n",
    "    pinn, pinn.optimizer, pinn.scheduler, batch_size=2**10,\n",
    "    epochs=200, batch_print=100, mode=\"all\",\n",
    "    conservative_pde=True\n",
    ")"
   ]
  },
  {
   "cell_type": "code",
   "execution_count": null,
   "id": "ecb7730d",
   "metadata": {},
   "outputs": [],
   "source": [
    "# visualize losses\n",
    "plt.figure(1, figsize=(16, 8));\n",
    "plt.plot(np.log10(info[\"pde_loss\"]), lw=2, color=\"red\");\n",
    "plt.title(\"PDE Loss vs. Epoch\");\n",
    "\n",
    "plt.figure(2, figsize=(16, 8));\n",
    "plt.plot(np.log10(info[\"data_loss\"]), lw=2, color=\"blue\");\n",
    "plt.title(\"Data Loss vs. Epoch\");\n",
    "\n",
    "query = cartesian_data(pinn.tgrid, pinn.xgrid)\n",
    "p_pred = pinn(query).reshape(pinn.nx, pinn.nt).T.detach().numpy()\n",
    "\n",
    "# grids\n",
    "tgrid = pinn.tgrid.detach().numpy()\n",
    "xgrid = pinn.xgrid.detach().numpy()\n",
    "\n",
    "p_exact = pinn.raw_data[\"pmc\"]\n",
    "dx = pinn.dx.item()\n",
    "dt = pinn.dt.item()"
   ]
  },
  {
   "cell_type": "code",
   "execution_count": null,
   "id": "cba89a28",
   "metadata": {},
   "outputs": [],
   "source": [
    "nx = 400\n",
    "xgrid_fine = np.linspace(-10.0, 10.0, nx)\n",
    "xgrid_fine = torch.tensor(xgrid_fine)\n",
    "dx = xgrid_fine[1]-xgrid_fine[0]\n",
    "nt = 1000\n",
    "tgrid_fine = np.linspace(0., 10.0, nt)\n",
    "tgrid_fine = torch.tensor(tgrid_fine)\n",
    "dt = tgrid_fine[1]-tgrid_fine[0]\n",
    "\n",
    "query_fine = cartesian_data(tgrid_fine, xgrid_fine)\n",
    "\n",
    "G_pred_fine = pinn.G_nn(query_fine[:, 1][:, None]).reshape(nx, nt).T.detach().numpy()\n",
    "p_pred_fine = pinn(query_fine).reshape(nx, nt).T.detach().numpy()"
   ]
  },
  {
   "cell_type": "code",
   "execution_count": null,
   "id": "6f044ac8",
   "metadata": {},
   "outputs": [],
   "source": [
    "plt.contourf(G_pred_fine); plt.colorbar();"
   ]
  },
  {
   "cell_type": "code",
   "execution_count": null,
   "id": "9db0adac",
   "metadata": {},
   "outputs": [],
   "source": [
    "plt.figure(1);\n",
    "plt.plot(xgrid_fine, G_pred_fine[0, :], color=\"red\");\n",
    "plt.plot(xgrid_fine, np.ones_like(xgrid_fine), \"--\", color=\"blue\", lw=5.0, alpha=0.5, label=\"exact\");\n",
    "plt.ylim([0.9, 1.1])\n",
    "plt.legend(); \n",
    "plt.xlabel(r\"$x$\");\n",
    "plt.ylabel(r\"$G(x)$\");"
   ]
  },
  {
   "cell_type": "code",
   "execution_count": null,
   "id": "d6231a27",
   "metadata": {},
   "outputs": [],
   "source": []
  }
 ],
 "metadata": {
  "kernelspec": {
   "display_name": "Python 3 (ipykernel)",
   "language": "python",
   "name": "python3"
  },
  "language_info": {
   "codemirror_mode": {
    "name": "ipython",
    "version": 3
   },
   "file_extension": ".py",
   "mimetype": "text/x-python",
   "name": "python",
   "nbconvert_exporter": "python",
   "pygments_lexer": "ipython3",
   "version": "3.9.16"
  }
 },
 "nbformat": 4,
 "nbformat_minor": 5
}
