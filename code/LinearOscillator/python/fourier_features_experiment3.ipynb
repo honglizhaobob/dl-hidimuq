{
 "cells": [
  {
   "cell_type": "markdown",
   "id": "36233a32",
   "metadata": {},
   "source": [
    "# Regression with Fourier Features - Part 3\n",
    "\n",
    "Apply the space-time Fourier embedded net on the original linear oscillator problem."
   ]
  },
  {
   "cell_type": "code",
   "execution_count": null,
   "id": "fe062395",
   "metadata": {},
   "outputs": [],
   "source": [
    "import matplotlib.pyplot as plt\n",
    "import torch\n",
    "import numpy as np\n",
    "import scipy\n",
    "from collections import OrderedDict\n",
    "\n",
    "# set random seeds\n",
    "np.random.seed(10)\n",
    "torch.manual_seed(10);\n",
    "torch.set_default_dtype(torch.float64)\n",
    "\n",
    "import numpy as np    \n",
    "import matplotlib.pyplot as plt\n",
    "\n",
    "import time\n",
    "import pylab as pl\n",
    "from IPython import display\n",
    "from IPython.display import clear_output\n",
    "\n",
    "# import neural nets\n",
    "from PINN.utils.dnn import *"
   ]
  },
  {
   "cell_type": "code",
   "execution_count": null,
   "id": "92445366",
   "metadata": {},
   "outputs": [],
   "source": [
    "# modify dataset\n",
    "full_data_path = \"../data/LinearOscillator/OU_Noise_energy.mat\"\n",
    "data = scipy.io.loadmat(full_data_path)\n",
    "# subsample factor\n",
    "space_factor = 5\n",
    "time_factor = 5\n",
    "new_pmc = (data[\"v_density\"].T)[0:-1:time_factor, 0:-1:space_factor]\n",
    "new_xgrid = data[\"xi\"][:, 0:-1:space_factor]\n",
    "new_tgrid = data[\"tspan\"][:, 0:-1:time_factor]\n",
    "# save new data\n",
    "new_data_path = \"../data/LinearOscillator/OU_Noise_energy_subsample{}.mat\".format(int(space_factor*time_factor))\n",
    "scipy.io.savemat(\n",
    "    new_data_path, {\"pmc\": new_pmc, \"xgrid\": new_xgrid, \"tgrid\": new_tgrid}\n",
    ")\n",
    "# test saved data\n",
    "new_data_path = \"../data/LinearOscillator/OU_Noise_energy_subsample25.mat\"\n",
    "data = scipy.io.loadmat(new_data_path)\n",
    "print(data[\"pmc\"].shape, data[\"xgrid\"].shape, data[\"tgrid\"].shape)\n",
    "# set random seeds\n",
    "np.random.seed(10)\n",
    "torch.manual_seed(10);\n",
    "\n",
    "data_path = \"../data/LinearOscillator/OU_Noise_energy_subsample25.mat\"\n",
    "data = scipy.io.loadmat(data_path)"
   ]
  },
  {
   "cell_type": "code",
   "execution_count": null,
   "id": "1b60f8c5",
   "metadata": {},
   "outputs": [],
   "source": [
    "X = cartesian_data(torch.tensor(new_tgrid[0].flatten()), torch.tensor(new_xgrid.flatten()))\n",
    "y = torch.tensor(new_pmc).T.flatten().reshape(-1, 1)\n",
    "\n",
    "# normalize data\n",
    "normalize = True\n",
    "if normalize:\n",
    "    X = X / X.mean(dim=0)\n",
    "    y = y / y.mean()"
   ]
  },
  {
   "cell_type": "code",
   "execution_count": null,
   "id": "17a27423",
   "metadata": {},
   "outputs": [],
   "source": [
    "# define training function\n",
    "def train(inputs, outputs, model, optim, scheduler, batch_size, epochs, shuffle=True):\n",
    "    X, y = inputs, outputs\n",
    "    nx = X.shape[0]\n",
    "    num_batches = int(nx/batch_size)\n",
    "    for i in range(epochs):\n",
    "        print(\"============================================================\\n\")\n",
    "        print(\"Epoch = {}\\n\".format(i+1));\n",
    "        print(\"============================================================\\n\")\n",
    "        model.train()\n",
    "        if shuffle:\n",
    "            tmp = np.random.permutation(nx)\n",
    "            X, y = X[tmp, :].data.clone(), y[tmp, :].data.clone()\n",
    "        for idx in range(num_batches):\n",
    "            if idx % 100 == 0:\n",
    "                print(\"| => | Batch {} |\\n\".format(idx+1))\n",
    "        # closure definition\n",
    "            def closure():\n",
    "                optim.zero_grad()\n",
    "                start_idx = idx*batch_size\n",
    "                end_idx = (idx+1)*batch_size\n",
    "                if idx + 1 == num_batches:\n",
    "                    # if last batch\n",
    "                    end_idx = -1\n",
    "                Xb, yb = X[start_idx:end_idx, :].data.clone(), y[start_idx:end_idx, :].data.clone()\n",
    "\n",
    "                # require gradients\n",
    "                Xb.requires_grad = True\n",
    "                # make a prediction on the batch\n",
    "                y_pred = model.forward(Xb)\n",
    "                # compute L^2 loss\n",
    "                loss = torch.mean((y_pred - yb)**2)\n",
    "                # backpropagate\n",
    "                loss.backward()\n",
    "                if idx % 100 == 0:\n",
    "                    print(\"==> Batch {} loss = {}\".format(idx, loss.item()))\n",
    "                return loss\n",
    "            optim.step(closure=closure)\n",
    "        if scheduler:\n",
    "            # step scheduler after epoch if there is one\n",
    "            scheduler.step()\n",
    "            print(\"---------- \\n\")\n",
    "            print(\"++ Learning rate reduced, now at = {}\".format(scheduler.get_last_lr()[0]))"
   ]
  },
  {
   "cell_type": "code",
   "execution_count": null,
   "id": "0dced14c",
   "metadata": {},
   "outputs": [],
   "source": [
    "# testing Fourier embedded net in 2d\n",
    "nn_fourier2d = FourierEmbeddedDNN2d(\n",
    "    layers=[30, 128, 128, 128, 1],\n",
    "    m=15, \n",
    "    freq_stds=np.array([[1.,2.,10.,20.,100.], [1.,2.,10.,20.,100.]]).T\n",
    ")\n",
    "optim = torch.optim.Adam(\n",
    "    nn_fourier2d.parameters(),\n",
    "    lr=8e-3\n",
    ")\n",
    "scheduler = torch.optim.lr_scheduler.ExponentialLR(optim, gamma=0.9999)\n",
    "train(X, y, nn_fourier2d, optim, scheduler, 2**12, 50, shuffle=True)"
   ]
  },
  {
   "cell_type": "code",
   "execution_count": null,
   "id": "38e45926",
   "metadata": {},
   "outputs": [],
   "source": [
    "p_pred = nn_fourier2d(X).reshape([len(new_xgrid[0]), len(new_tgrid[0])]).detach().numpy().T"
   ]
  },
  {
   "cell_type": "code",
   "execution_count": null,
   "id": "e5886944",
   "metadata": {},
   "outputs": [],
   "source": [
    "p_exact = data[\"pmc\"]"
   ]
  },
  {
   "cell_type": "code",
   "execution_count": null,
   "id": "ef3f8618",
   "metadata": {},
   "outputs": [],
   "source": [
    "idx = 108\n",
    "plt.figure(1);\n",
    "plt.plot(data[\"xgrid\"].flatten(), p_pred[idx, :]);\n",
    "#plt.plot(data[\"xgrid\"].flatten(), p_exact[idx, :]);"
   ]
  },
  {
   "cell_type": "code",
   "execution_count": null,
   "id": "1722a104",
   "metadata": {},
   "outputs": [],
   "source": [
    "|"
   ]
  }
 ],
 "metadata": {
  "kernelspec": {
   "display_name": "Python 3 (ipykernel)",
   "language": "python",
   "name": "python3"
  },
  "language_info": {
   "codemirror_mode": {
    "name": "ipython",
    "version": 3
   },
   "file_extension": ".py",
   "mimetype": "text/x-python",
   "name": "python",
   "nbconvert_exporter": "python",
   "pygments_lexer": "ipython3",
   "version": "3.9.16"
  }
 },
 "nbformat": 4,
 "nbformat_minor": 5
}
