{
 "cells": [
  {
   "cell_type": "markdown",
   "id": "f4d3b60c",
   "metadata": {},
   "source": [
    "07/18/2023\n",
    "\n",
    "Development for hierarchical learning of multiscale PINNs."
   ]
  },
  {
   "cell_type": "code",
   "execution_count": 1,
   "id": "1bdc5015",
   "metadata": {},
   "outputs": [],
   "source": [
    "from PINN.utils.dnn import *"
   ]
  },
  {
   "cell_type": "code",
   "execution_count": 36,
   "id": "d16fc184",
   "metadata": {},
   "outputs": [],
   "source": [
    "dnn = build_nn([2, 32, 32, 5], torch.nn.Tanh)"
   ]
  },
  {
   "cell_type": "code",
   "execution_count": 37,
   "id": "85814c15",
   "metadata": {},
   "outputs": [
    {
     "data": {
      "text/plain": [
       "Sequential(\n",
       "  (layer_0): Linear(in_features=2, out_features=32, bias=True)\n",
       "  (activation_0): Tanh()\n",
       "  (layer_1): Linear(in_features=32, out_features=5, bias=True)\n",
       ")"
      ]
     },
     "execution_count": 37,
     "metadata": {},
     "output_type": "execute_result"
    }
   ],
   "source": [
    "dnn"
   ]
  },
  {
   "cell_type": "code",
   "execution_count": 42,
   "id": "688e6ab4",
   "metadata": {},
   "outputs": [],
   "source": [
    "test1 = torch.randn(10, 1000, 2)"
   ]
  },
  {
   "cell_type": "code",
   "execution_count": 55,
   "id": "08416521",
   "metadata": {},
   "outputs": [
    {
     "data": {
      "text/plain": [
       "torch.Size([3, 5, 2])"
      ]
     },
     "execution_count": 55,
     "metadata": {},
     "output_type": "execute_result"
    }
   ],
   "source": [
    "test = torch.stack([torch.randn(5, 2), torch.randn(5, 2), torch.randn(5, 2)])\n",
    "test.shape"
   ]
  },
  {
   "cell_type": "code",
   "execution_count": 63,
   "id": "dc6fb9a3",
   "metadata": {},
   "outputs": [
    {
     "data": {
      "text/plain": [
       "tensor([[-1.1760,  1.6291, -1.4346,  ...,  0.3115,  0.6529, -0.8820],\n",
       "        [ 0.2116,  0.3232,  2.6960,  ..., -1.1346, -0.7070, -0.9386],\n",
       "        [ 1.4546,  0.8553,  0.4907,  ..., -1.9024, -2.5672, -0.8714],\n",
       "        ...,\n",
       "        [ 1.7450, -1.0261, -0.2322,  ...,  0.5998,  0.8948,  0.6718],\n",
       "        [-0.6715,  0.0487, -0.3628,  ...,  0.6822, -0.0616,  2.2044],\n",
       "        [-0.0678, -0.7613,  0.5058,  ..., -0.0884, -0.2652,  1.2343]])"
      ]
     },
     "execution_count": 63,
     "metadata": {},
     "output_type": "execute_result"
    }
   ],
   "source": [
    "torch.randn(100, 20, requires_grad=False)"
   ]
  },
  {
   "cell_type": "code",
   "execution_count": null,
   "id": "3016751d",
   "metadata": {},
   "outputs": [],
   "source": []
  },
  {
   "cell_type": "code",
   "execution_count": null,
   "id": "34df2860",
   "metadata": {},
   "outputs": [],
   "source": []
  },
  {
   "cell_type": "code",
   "execution_count": null,
   "id": "ea0acb96",
   "metadata": {},
   "outputs": [],
   "source": []
  },
  {
   "cell_type": "code",
   "execution_count": null,
   "id": "098cbb83",
   "metadata": {},
   "outputs": [],
   "source": []
  },
  {
   "cell_type": "code",
   "execution_count": null,
   "id": "09d562af",
   "metadata": {},
   "outputs": [],
   "source": []
  }
 ],
 "metadata": {
  "kernelspec": {
   "display_name": "Python 3 (ipykernel)",
   "language": "python",
   "name": "python3"
  },
  "language_info": {
   "codemirror_mode": {
    "name": "ipython",
    "version": 3
   },
   "file_extension": ".py",
   "mimetype": "text/x-python",
   "name": "python",
   "nbconvert_exporter": "python",
   "pygments_lexer": "ipython3",
   "version": "3.9.16"
  }
 },
 "nbformat": 4,
 "nbformat_minor": 5
}
