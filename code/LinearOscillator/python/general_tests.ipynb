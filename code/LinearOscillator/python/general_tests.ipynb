{
 "cells": [
  {
   "cell_type": "markdown",
   "id": "ac47033a",
   "metadata": {},
   "source": [
    "A notebook for general purpose tests of library functionalities during development."
   ]
  },
  {
   "cell_type": "code",
   "execution_count": 10,
   "id": "b94a29c6",
   "metadata": {},
   "outputs": [
    {
     "data": {
      "text/plain": [
       "array([ 0. ,  1. ,  1.9,  2.8,  3.7,  4.6,  5.5,  6.4,  7.3,  8.2,  9.1,\n",
       "       10. , 10.1])"
      ]
     },
     "execution_count": 10,
     "metadata": {},
     "output_type": "execute_result"
    }
   ],
   "source": [
    "# concatenating numpy arrays\n",
    "import numpy as np\n",
    "xmin, xmax = 1.0, 10.0\n",
    "nx = 11\n",
    "xgrid = np.linspace(xmin, xmax, nx)\n",
    "np.concatenate([[0.0], xgrid, [10.1]])"
   ]
  },
  {
   "cell_type": "code",
   "execution_count": 17,
   "id": "2b8c83b5",
   "metadata": {},
   "outputs": [
    {
     "name": "stdout",
     "output_type": "stream",
     "text": [
      "[2 3 5 9]\n",
      "[0 1 4 6 7 8]\n"
     ]
    }
   ],
   "source": [
    "# find indices\n",
    "import numpy as np\n",
    "np.random.seed(10)\n",
    "nx = 10\n",
    "test = np.random.randn(nx)\n",
    "print(np.where(test < 0)[0])\n",
    "print(np.where(test >= 0)[0])"
   ]
  },
  {
   "cell_type": "code",
   "execution_count": 21,
   "id": "faeb8487",
   "metadata": {},
   "outputs": [
    {
     "data": {
      "text/plain": [
       "array([-0.40013835, -1.90745689, -0.92290926,  0.46975143, -0.78726893])"
      ]
     },
     "execution_count": 21,
     "metadata": {},
     "output_type": "execute_result"
    }
   ],
   "source": [
    "# elementwise minimum / maximum\n",
    "np.minimum(np.random.randn(5), np.random.randn(5))"
   ]
  },
  {
   "cell_type": "code",
   "execution_count": null,
   "id": "2cb71566",
   "metadata": {},
   "outputs": [],
   "source": [
    "|"
   ]
  }
 ],
 "metadata": {
  "kernelspec": {
   "display_name": "Python 3 (ipykernel)",
   "language": "python",
   "name": "python3"
  },
  "language_info": {
   "codemirror_mode": {
    "name": "ipython",
    "version": 3
   },
   "file_extension": ".py",
   "mimetype": "text/x-python",
   "name": "python",
   "nbconvert_exporter": "python",
   "pygments_lexer": "ipython3",
   "version": "3.9.16"
  }
 },
 "nbformat": 4,
 "nbformat_minor": 5
}
