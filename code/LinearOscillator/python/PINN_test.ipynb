{
 "cells": [
  {
   "cell_type": "code",
   "execution_count": null,
   "id": "38df8a6c",
   "metadata": {},
   "outputs": [],
   "source": [
    "from PINN.PhysicsInformedROPDF import *\n",
    "# Testing\n",
    "import matplotlib.pyplot as plt\n",
    "import torch\n",
    "import numpy as np\n",
    "import scipy"
   ]
  },
  {
   "cell_type": "code",
   "execution_count": null,
   "id": "134feaab",
   "metadata": {},
   "outputs": [],
   "source": [
    "data_path = \"../data/LinearOscillator/OU_Noise_Energy_PINN_Data.mat\"\n",
    "# create PINN\n",
    "pinn = PhysicsInformedROPDF(indim=2, outdim=1, data_path=data_path)"
   ]
  },
  {
   "cell_type": "code",
   "execution_count": null,
   "id": "2d731ec4",
   "metadata": {},
   "outputs": [],
   "source": [
    "# testing data loss\n",
    "# take random sample of data points\n",
    "k = 1000\n",
    "idx = np.random.choice(len(pinn.pmc), k)\n",
    "inputs_k = pinn.inputs[idx, :]\n",
    "pmc_k = pinn.pmc[idx]\n",
    "pinn.data_loss(inputs_k, pmc_k, gamma=1.0)"
   ]
  },
  {
   "cell_type": "code",
   "execution_count": null,
   "id": "4e56f8a1",
   "metadata": {},
   "outputs": [],
   "source": [
    "# testing gradient\n",
    "k = 1000\n",
    "idx = np.random.choice(len(pinn.pmc), k)\n",
    "inputs_k = pinn.inputs[idx, :]\n",
    "p_pred = pinn(inputs_k)\n",
    "pinn.gradient(p_pred, inputs_k)"
   ]
  },
  {
   "cell_type": "code",
   "execution_count": null,
   "id": "b0b5b163",
   "metadata": {},
   "outputs": [],
   "source": [
    "# testing PDE loss\n",
    "k = 1000\n",
    "idx = np.random.choice(len(pinn.pmc), k)\n",
    "inputs_k = pinn.inputs[idx, :]\n",
    "pinn.domain_loss(inputs_k)"
   ]
  },
  {
   "cell_type": "code",
   "execution_count": null,
   "id": "57e73f0c",
   "metadata": {},
   "outputs": [],
   "source": [
    "# testing regularity loss\n",
    "pinn.regularity_loss()"
   ]
  },
  {
   "cell_type": "code",
   "execution_count": null,
   "id": "f7152947",
   "metadata": {},
   "outputs": [],
   "source": [
    "# testing training\n",
    "train(\n",
    "    pinn, pinn.optimizer, \n",
    "    None, batch_size=2000,\n",
    "    epochs=100, batch_print=10\n",
    ")"
   ]
  },
  {
   "cell_type": "code",
   "execution_count": null,
   "id": "23c70518",
   "metadata": {},
   "outputs": [],
   "source": [
    "D_pred = pinn.D_nn(pinn.inputs).reshape(pinn.nx, pinn.nt).T.detach().numpy()\n",
    "G_pred = pinn.G_nn(pinn.inputs).reshape(pinn.nx, pinn.nt).T.detach().numpy()"
   ]
  },
  {
   "cell_type": "code",
   "execution_count": null,
   "id": "d68821e7",
   "metadata": {},
   "outputs": [],
   "source": [
    "plt.contourf(D_pred)"
   ]
  },
  {
   "cell_type": "code",
   "execution_count": null,
   "id": "eb4a3677",
   "metadata": {},
   "outputs": [],
   "source": [
    "plt.contourf(G_pred)"
   ]
  },
  {
   "cell_type": "code",
   "execution_count": null,
   "id": "94683f24",
   "metadata": {},
   "outputs": [],
   "source": []
  }
 ],
 "metadata": {
  "kernelspec": {
   "display_name": "Python 3 (ipykernel)",
   "language": "python",
   "name": "python3"
  },
  "language_info": {
   "codemirror_mode": {
    "name": "ipython",
    "version": 3
   },
   "file_extension": ".py",
   "mimetype": "text/x-python",
   "name": "python",
   "nbconvert_exporter": "python",
   "pygments_lexer": "ipython3",
   "version": "3.9.16"
  }
 },
 "nbformat": 4,
 "nbformat_minor": 5
}
