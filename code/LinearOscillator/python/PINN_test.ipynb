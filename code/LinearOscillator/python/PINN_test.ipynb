{
 "cells": [
  {
   "cell_type": "markdown",
   "id": "7f97aef3",
   "metadata": {},
   "source": [
    "Attemping to infer the parameters as spatial-temporal functions from low-fidelity PDE solution (KDE).\n",
    "\n",
    "The PDE is assumed to have form:\n",
    "$$\n",
    "    u_t + \\frac{\\partial}{\\partial x}\\bigg[\\mathcal{V}(t,x)u\\bigg] = \\frac{\\partial}{\\partial x}\\bigg[\\mathcal{D}(t,x)u_x\\bigg]\n",
    "$$ where $\\mathcal{V}, \\mathcal{D}$ are parameterized as separate NNs.\n",
    "\n",
    "(06/15/2023) Method does not work well at capturing time intervals where the PDE solution changes rapidly. The method may capture the steady state solution well."
   ]
  },
  {
   "cell_type": "code",
   "execution_count": 1,
   "id": "021d68cd",
   "metadata": {},
   "outputs": [],
   "source": [
    "from PINN.PhysicsInformedROPDF import *\n",
    "# Testing\n",
    "import matplotlib.pyplot as plt\n",
    "%matplotlib inline\n",
    "import torch\n",
    "import numpy as np\n",
    "import scipy\n",
    "\n",
    "import time\n",
    "import pylab as pl\n",
    "from IPython import display\n",
    "from IPython.display import clear_output"
   ]
  },
  {
   "cell_type": "code",
   "execution_count": null,
   "id": "a390716c",
   "metadata": {},
   "outputs": [],
   "source": [
    "# modify dataset\n",
    "full_data_path = \"../data/LinearOscillator/OU_Noise_energy.mat\"\n",
    "data = scipy.io.loadmat(full_data_path)\n",
    "# subsample factor\n",
    "space_factor = 5\n",
    "time_factor = 5\n",
    "new_pmc = (data[\"v_density\"].T)[0:-1:time_factor, 0:-1:space_factor]\n",
    "new_xgrid = data[\"xi\"][:, 0:-1:space_factor]\n",
    "new_tgrid = data[\"tspan\"][:, 0:-1:time_factor]\n",
    "# save new data\n",
    "new_data_path = \"../data/LinearOscillator/OU_Noise_energy_subsample{}.mat\".format(int(space_factor*time_factor))\n",
    "scipy.io.savemat(\n",
    "    new_data_path, {\"pmc\": new_pmc, \"xgrid\": new_xgrid, \"tgrid\": new_tgrid}\n",
    ")"
   ]
  },
  {
   "cell_type": "code",
   "execution_count": null,
   "id": "1ec0f9e1",
   "metadata": {},
   "outputs": [],
   "source": [
    "# test saved data\n",
    "new_data_path = \"../data/LinearOscillator/OU_Noise_energy_subsample25.mat\"\n",
    "data = scipy.io.loadmat(new_data_path)\n",
    "print(data[\"pmc\"].shape, data[\"xgrid\"].shape, data[\"tgrid\"].shape)"
   ]
  },
  {
   "cell_type": "markdown",
   "id": "904b9c34",
   "metadata": {},
   "source": [
    "Experiments below"
   ]
  },
  {
   "cell_type": "code",
   "execution_count": null,
   "id": "05871b91",
   "metadata": {},
   "outputs": [],
   "source": [
    "# set random seeds\n",
    "np.random.seed(10)\n",
    "torch.manual_seed(10);\n",
    "\n",
    "data_path = \"../data/LinearOscillator/OU_Noise_energy_subsample25.mat\"\n",
    "# create PINN\n",
    "pinn = PhysicsInformedROPDF(indim=2, outdim=1, data_path=data_path, scheduler=\"ExponentialLR\")\n",
    "\n",
    "# learn on log-scale\n",
    "log_scale = True\n",
    "if log_scale:\n",
    "    # modify data to be max(log(p), eps)\n",
    "    pinn.pmc = torch.clamp(torch.log(pinn.pmc), -100)"
   ]
  },
  {
   "cell_type": "code",
   "execution_count": null,
   "id": "33a48dc1",
   "metadata": {
    "scrolled": true
   },
   "outputs": [],
   "source": [
    "for i in range(pinn.nt):\n",
    "    plt.figure(1);\n",
    "    plt.plot(pinn.raw_data[\"pmc\"][i, :], color=\"red\")\n",
    "    plt.ylim([0, 0.04])\n",
    "    display.clear_output(wait=True)\n",
    "    display.display(pl.gcf())\n",
    "    plt.clf()\n",
    "    time.sleep(0.01)"
   ]
  },
  {
   "cell_type": "code",
   "execution_count": null,
   "id": "f038db9d",
   "metadata": {},
   "outputs": [],
   "source": [
    "# testing training\n",
    "info = train(\n",
    "    pinn, pinn.optimizer, pinn.scheduler, batch_size=2**10,\n",
    "    epochs=1000, batch_print=200, mode=\"data_only\"\n",
    ")"
   ]
  },
  {
   "cell_type": "code",
   "execution_count": null,
   "id": "5e2b87d6",
   "metadata": {},
   "outputs": [],
   "source": [
    "# visualize losses\n",
    "plt.figure(1, figsize=(16, 8));\n",
    "plt.plot(info[\"pde_loss\"], lw=2, color=\"red\");\n",
    "plt.title(\"PDE Loss vs. Epoch\");\n",
    "\n",
    "plt.figure(2, figsize=(16, 8));\n",
    "plt.plot(info[\"data_loss\"], lw=2, color=\"blue\");\n",
    "plt.title(\"Data Loss vs. Epoch\");"
   ]
  },
  {
   "cell_type": "code",
   "execution_count": null,
   "id": "d57d970d",
   "metadata": {},
   "outputs": [],
   "source": [
    "query = cartesian_data(pinn.tgrid, pinn.xgrid)\n",
    "\n",
    "D_pred = pinn.D_nn(query).reshape(pinn.nx, pinn.nt).T.detach().numpy()\n",
    "G_pred = pinn.G_nn(query).reshape(pinn.nx, pinn.nt).T.detach().numpy()\n",
    "p_pred = pinn(query).reshape(pinn.nx, pinn.nt).T.detach().numpy()\n",
    "p_exact = np.log(pinn.raw_data[\"pmc\"])\n",
    "p_exact = np.clip(p_exact, a_min=-100, a_max=float(\"inf\"))\n",
    "\n",
    "# grids\n",
    "tgrid = pinn.tgrid.detach().numpy()\n",
    "xgrid = pinn.xgrid.detach().numpy()"
   ]
  },
  {
   "cell_type": "code",
   "execution_count": null,
   "id": "0fc527bc",
   "metadata": {},
   "outputs": [],
   "source": [
    "plt.figure(1);\n",
    "plt.contourf(xgrid, tgrid, G_pred);\n",
    "plt.colorbar()\n",
    "plt.figure(2);\n",
    "plt.plot(xgrid, G_pred[0:-1:10, :].T, alpha=0.4, lw=1.5);"
   ]
  },
  {
   "cell_type": "code",
   "execution_count": null,
   "id": "d270263a",
   "metadata": {},
   "outputs": [],
   "source": [
    "plt.contourf(pinn.xgrid.detach().numpy(), pinn.tgrid.detach().numpy(), p_pred)"
   ]
  },
  {
   "cell_type": "code",
   "execution_count": null,
   "id": "378d1a70",
   "metadata": {},
   "outputs": [],
   "source": [
    "plt.figure(1);\n",
    "idx = 29\n",
    "plt.plot(xgrid, np.exp(p_pred[idx, :]), label=\"predict\", color='blue')\n",
    "plt.plot(xgrid, np.exp(p_exact[idx, :]), label=\"exact\", color=\"red\");\n",
    "plt.legend();\n",
    "\n",
    "plt.figure(2);\n",
    "plt.plot(xgrid, p_pred[idx, :], label=\"predict\", color=\"blue\")\n",
    "plt.plot(xgrid, p_exact[idx, :], label=\"exact\", color=\"red\");\n",
    "plt.legend();\n"
   ]
  },
  {
   "cell_type": "code",
   "execution_count": null,
   "id": "009f4466",
   "metadata": {},
   "outputs": [],
   "source": [
    "plt.contourf(pinn.xgrid.detach().numpy(), pinn.tgrid.detach().numpy(), p_exact)"
   ]
  },
  {
   "cell_type": "code",
   "execution_count": null,
   "id": "da7efd7a",
   "metadata": {},
   "outputs": [],
   "source": [
    "xgrid = pinn.xgrid.detach().numpy()\n",
    "dx = xgrid[1]-xgrid[0]\n",
    "plt.figure(1);\n",
    "fig, ax = plt.subplots(2, 2);\n",
    "ax[0, 0].plot(xgrid, p_exact[0, :], label=\"KDE\", lw=1.0, color=\"red\");\n",
    "ax[0, 0].plot(xgrid, p_pred[0, :], label=\"PINN\", lw=1.0, color=\"blue\");\n",
    "ax[0, 0].set_title(r\"$t = 0$\");\n",
    "\n",
    "ax[0, 1].plot(xgrid, p_exact[125, :], label=\"KDE\", lw=1.0, color=\"red\");\n",
    "ax[0, 1].plot(xgrid, p_pred[125, :], label=\"PINN\", lw=1.0, color=\"blue\");\n",
    "ax[0, 1].set_title(r\"$t = 2.5$\");\n",
    "\n",
    "ax[1, 0].plot(xgrid, p_exact[250, :], label=\"KDE\", lw=1.0, color=\"red\");\n",
    "ax[1, 0].plot(xgrid, p_pred[250, :], label=\"PINN\", lw=1.0, color=\"blue\");\n",
    "ax[1, 0].set_title(r\"$t = 5.0$\");\n",
    "\n",
    "ax[1, 1].plot(xgrid, p_exact[-1, :], label=\"KDE\", lw=1.0, color=\"red\");\n",
    "ax[1, 1].plot(xgrid, p_pred[-1, :], label=\"PINN\", lw=1.0, color=\"blue\");\n",
    "ax[1, 1].set_title(r\"$t = 10.0$\");\n",
    "\n",
    "fig.set_figwidth(8);\n",
    "fig.tight_layout(pad=0.5);"
   ]
  },
  {
   "cell_type": "code",
   "execution_count": null,
   "id": "27b9bf33",
   "metadata": {},
   "outputs": [],
   "source": [
    "plt.figure(2);\n",
    "# relative error in L^2 from KDE benchmark\n",
    "l2_rel_err = np.sum(((np.exp(p_pred)-np.exp(p_exact))**2)*dx, 1) / np.sum((np.exp(p_exact)**2)*dx, 1)\n",
    "tgrid = pinn.tgrid.detach().numpy()\n",
    "plt.plot(tgrid, l2_rel_err, color=\"red\", lw=1.5);\n",
    "plt.grid(True);\n",
    "plt.title(r\"Relative error in $L^2$\");\n",
    "plt.xlabel(r\"$t$\"); \n",
    "plt.ylabel(r\"$L^2(\\mathbb{R})$ error\");"
   ]
  },
  {
   "cell_type": "code",
   "execution_count": null,
   "id": "82176eca",
   "metadata": {},
   "outputs": [],
   "source": []
  }
 ],
 "metadata": {
  "kernelspec": {
   "display_name": "Python 3 (ipykernel)",
   "language": "python",
   "name": "python3"
  },
  "language_info": {
   "codemirror_mode": {
    "name": "ipython",
    "version": 3
   },
   "file_extension": ".py",
   "mimetype": "text/x-python",
   "name": "python",
   "nbconvert_exporter": "python",
   "pygments_lexer": "ipython3",
   "version": "3.9.16"
  }
 },
 "nbformat": 4,
 "nbformat_minor": 5
}
