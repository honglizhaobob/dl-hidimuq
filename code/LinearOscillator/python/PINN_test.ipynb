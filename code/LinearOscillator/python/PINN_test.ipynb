{
 "cells": [
  {
   "cell_type": "markdown",
   "id": "7f97aef3",
   "metadata": {},
   "source": [
    "Attemping to infer the parameters as spatial-temporal functions from low-fidelity PDE solution (KDE).\n",
    "\n",
    "The PDE is assumed to have form:\n",
    "$$\n",
    "    u_t + \\frac{\\partial}{\\partial x}\\bigg[\\mathcal{V}(t,x)u\\bigg] = \\frac{\\partial}{\\partial x}\\bigg[\\mathcal{D}(t,x)u_x\\bigg]\n",
    "$$ where $\\mathcal{V}, \\mathcal{D}$ are parameterized as separate NNs.\n",
    "\n",
    "(06/15/2023) Method does not work well at capturing time intervals where the PDE solution changes rapidly. The method may capture the steady state solution well."
   ]
  },
  {
   "cell_type": "code",
   "execution_count": null,
   "id": "b8502d88",
   "metadata": {},
   "outputs": [],
   "source": [
    "from PINN.PhysicsInformedROPDF import *\n",
    "# Testing\n",
    "import matplotlib.pyplot as plt\n",
    "import torch\n",
    "import numpy as np\n",
    "import scipy\n",
    "\n",
    "# set random seeds\n",
    "np.random.seed(10)\n",
    "torch.manual_seed(10);"
   ]
  },
  {
   "cell_type": "code",
   "execution_count": null,
   "id": "05871b91",
   "metadata": {},
   "outputs": [],
   "source": [
    "data_path = \"../data/LinearOscillator/OU_Noise_Energy_PINN_Data.mat\"\n",
    "# create PINN\n",
    "pinn = PhysicsInformedROPDF(indim=2, outdim=1, data_path=data_path, scheduler=\"ExponentialLR\")"
   ]
  },
  {
   "cell_type": "code",
   "execution_count": null,
   "id": "f038db9d",
   "metadata": {},
   "outputs": [],
   "source": [
    "# testing training\n",
    "info = train(\n",
    "    pinn, pinn.optimizer, pinn.scheduler, batch_size=2**9,\n",
    "    epochs=60, batch_print=50\n",
    ")"
   ]
  },
  {
   "cell_type": "code",
   "execution_count": null,
   "id": "5e2b87d6",
   "metadata": {},
   "outputs": [],
   "source": [
    "# visualize losses\n",
    "plt.figure(1, figsize=(16, 8));\n",
    "plt.plot(np.log10(info[\"pde_loss\"]), lw=2, color=\"red\");\n",
    "plt.title(\"PDE Loss vs. Epoch\");\n",
    "\n",
    "plt.figure(2, figsize=(16, 8));\n",
    "plt.plot(np.log10(info[\"data_loss\"]), lw=2, color=\"blue\");\n",
    "plt.title(\"Data Loss vs. Epoch\");\n",
    "\n",
    "plt.figure(3, figsize=(16, 8));\n",
    "plt.plot(np.log10(info[\"reg_loss\"]), lw=2, color=\"purple\");\n",
    "plt.title(\"Regularity Loss vs. Epoch\");\n",
    "\n",
    "#plt.figure(4, figsize=(16, 8));\n",
    "#plt.plot(np.log(info[\"init_loss\"]), lw=2, color=\"purple\");\n",
    "\n",
    "#plt.figure(5, figsize=(16, 8));\n",
    "#plt.plot(np.log(info[\"boundary_loss\"]), lw=2, color=\"purple\");"
   ]
  },
  {
   "cell_type": "code",
   "execution_count": null,
   "id": "d57d970d",
   "metadata": {},
   "outputs": [],
   "source": [
    "query = cartesian_data(pinn.tgrid, pinn.xgrid)\n",
    "\n",
    "D_pred = pinn.D_nn(query).reshape(pinn.nx, pinn.nt).T.detach().numpy()\n",
    "G_pred = pinn.G_nn(query).reshape(pinn.nx, pinn.nt).T.detach().numpy()\n",
    "p_pred = pinn(query).reshape(pinn.nx, pinn.nt).T.detach().numpy()\n",
    "\n",
    "# grids\n",
    "tgrid = pinn.tgrid.detach().numpy()\n",
    "xgrid = pinn.xgrid.detach().numpy()"
   ]
  },
  {
   "cell_type": "code",
   "execution_count": null,
   "id": "f8096d2b",
   "metadata": {},
   "outputs": [],
   "source": [
    "plt.figure(1);\n",
    "plt.contourf(xgrid, tgrid, D_pred);\n",
    "plt.colorbar()\n",
    "#plt.savefig(\"./fig/diffusion_nn.png\", dpi=100)"
   ]
  },
  {
   "cell_type": "code",
   "execution_count": null,
   "id": "0fc527bc",
   "metadata": {},
   "outputs": [],
   "source": [
    "plt.figure(1);\n",
    "plt.contourf(xgrid, tgrid, G_pred);\n",
    "plt.colorbar()\n",
    "#plt.savefig(\"./fig/drift_nn.png\", dpi=100)"
   ]
  },
  {
   "cell_type": "code",
   "execution_count": null,
   "id": "655b727f",
   "metadata": {},
   "outputs": [],
   "source": [
    "idx = 200\n",
    "p_exact = pinn.raw_data[\"pmc\"]\n",
    "\n",
    "plt.plot(p_pred[idx, :], label=\"pred\")\n",
    "plt.plot(p_exact[idx, :], label=\"truth\")\n",
    "plt.legend()"
   ]
  },
  {
   "cell_type": "code",
   "execution_count": null,
   "id": "d270263a",
   "metadata": {},
   "outputs": [],
   "source": [
    "plt.contourf(p_pred)"
   ]
  },
  {
   "cell_type": "code",
   "execution_count": null,
   "id": "009f4466",
   "metadata": {},
   "outputs": [],
   "source": [
    "plt.contourf(pinn.xgrid.detach().numpy(), pinn.tgrid.detach().numpy(), p_exact)"
   ]
  },
  {
   "cell_type": "code",
   "execution_count": null,
   "id": "da7efd7a",
   "metadata": {},
   "outputs": [],
   "source": [
    "xgrid = pinn.xgrid.detach().numpy()\n",
    "dx = xgrid[1]-xgrid[0]\n",
    "plt.figure(1);\n",
    "fig, ax = plt.subplots(2, 2);\n",
    "ax[0, 0].plot(xgrid, p_exact[0, :], label=\"KDE\", lw=1.0, color=\"red\");\n",
    "ax[0, 0].plot(xgrid, p_pred[0, :], label=\"PINN\", lw=1.0, color=\"blue\");\n",
    "ax[0, 0].set_title(r\"$t = 0$\");\n",
    "\n",
    "ax[0, 1].plot(xgrid, p_exact[125, :], label=\"KDE\", lw=1.0, color=\"red\");\n",
    "ax[0, 1].plot(xgrid, p_pred[125, :], label=\"PINN\", lw=1.0, color=\"blue\");\n",
    "ax[0, 1].set_title(r\"$t = 2.5$\");\n",
    "\n",
    "ax[1, 0].plot(xgrid, p_exact[250, :], label=\"KDE\", lw=1.0, color=\"red\");\n",
    "ax[1, 0].plot(xgrid, p_pred[250, :], label=\"PINN\", lw=1.0, color=\"blue\");\n",
    "ax[1, 0].set_title(r\"$t = 5.0$\");\n",
    "\n",
    "ax[1, 1].plot(xgrid, p_exact[-1, :], label=\"KDE\", lw=1.0, color=\"red\");\n",
    "ax[1, 1].plot(xgrid, p_pred[-1, :], label=\"PINN\", lw=1.0, color=\"blue\");\n",
    "ax[1, 1].set_title(r\"$t = 10.0$\");\n",
    "\n",
    "fig.set_figwidth(8);\n",
    "fig.tight_layout(pad=0.5);\n",
    "\n",
    "plt.savefig(\"./fig/PINN.png\", dpi=100);"
   ]
  },
  {
   "cell_type": "code",
   "execution_count": null,
   "id": "27b9bf33",
   "metadata": {},
   "outputs": [],
   "source": [
    "plt.figure(2);\n",
    "# relative error in L^2 from KDE benchmark\n",
    "l2_rel_err = np.sum(((p_pred-p_exact)**2)*dx, 1) / np.sum((p_exact**2)*dx, 1)\n",
    "tgrid = pinn.tgrid.detach().numpy()\n",
    "plt.plot(tgrid, l2_rel_err, color=\"red\", lw=1.5);\n",
    "plt.grid(True);\n",
    "plt.title(r\"Relative error in $L^2$\");\n",
    "plt.xlabel(r\"$t$\"); \n",
    "plt.ylabel(r\"$L^2(\\mathbb{R})$ error\");\n",
    "plt.savefig(\"./fig/PINN_rel_l2_err.png\", dpi=100);"
   ]
  },
  {
   "cell_type": "markdown",
   "id": "e94bdbfc",
   "metadata": {},
   "source": [
    "## Learning a pure advection\n",
    "\n",
    "To verify that our PINN implementation is working well, we test the PINN on the following problem:\n",
    "$$\n",
    "    \\begin{cases}\n",
    "        u_t + au_x = 0\\\\\n",
    "        \\lim_{|x|\\rightarrow\\infty}u(t, x) = 0\\\\\n",
    "        u(0, x) = u_0(x)\n",
    "    \\end{cases}\n",
    "$$ where $u_0 = \\mathcal{N}(x|0, 1)$. "
   ]
  },
  {
   "cell_type": "code",
   "execution_count": null,
   "id": "cd51ca07",
   "metadata": {},
   "outputs": [],
   "source": [
    "from PINN.PhysicsInformedROPDF import *\n",
    "# Testing\n",
    "import matplotlib.pyplot as plt\n",
    "import torch\n",
    "import numpy as np\n",
    "import scipy\n",
    "\n",
    "# set random seeds\n",
    "np.random.seed(10)\n",
    "torch.manual_seed(10);\n",
    "\n",
    "import numpy as np    \n",
    "import matplotlib.pyplot as plt\n",
    "\n",
    "class LinearAdvection1D:\n",
    "    # Matrix for LA1D \n",
    "    A=0\n",
    "   # Initialization of constants \n",
    "    def __init__(self, c, x0, xN, N, deltaT,T):\n",
    "        self.c = c \n",
    "        self.x0 = x0   \n",
    "        self.xN = xN \n",
    "        self.N = N   \n",
    "        self.deltaT = deltaT   \n",
    "        self.T = T       \n",
    "    # CFL number funct.   \n",
    "    def CFL(self):\n",
    "        deltaX= (self.xN - self.x0)/self.N\n",
    "        return np.abs(self.c*self.deltaT/deltaX)\n",
    "    # check CFL number <=1 or not.\n",
    "    def checkCFL(self):\n",
    "        if (self.CFL()<=1):\n",
    "            flag=True\n",
    "        else:\n",
    "            flag=False\n",
    "        return flag\n",
    "    # Matrix assembly of LA1D   \n",
    "    def upwindMatrixAssembly(self):\n",
    "        alpha_min=min(self.CFL(),0)\n",
    "        alpha_max=max(self.CFL(),0)\n",
    "        a1=[alpha_max]*(self.N-1)\n",
    "        a2=[1+alpha_min-alpha_max]*(self.N)\n",
    "        a3=[-alpha_min]*(self.N-1)\n",
    "        self.A=np.diag(a1, -1)+np.diag(a2, 0)+np.diag(a3, 1)\n",
    "\n",
    "    # Solve u=Au0\n",
    "    def step(self,u0):\n",
    "        return np.matmul(self.A,u0) \n",
    "\n",
    "#############  \n",
    "# Start of the code\n",
    "###################\n",
    "\n",
    "# constants  \n",
    "N, x0, xN, deltaT, c, T = 1000, -10.,10., 0.01, 1.0, 10.0\n",
    "# initialization of constants\n",
    "LA1D = LinearAdvection1D(c, x0, xN, N, deltaT,T) \n",
    "\n",
    "# initial value\n",
    "x = np.linspace(LA1D.x0,LA1D.xN,LA1D.N)\n",
    "nx = len(x)\n",
    "u0=(1/(np.sqrt(2*np.pi)))*np.exp(-0.5*((x+5)**2))\n",
    "\n",
    "#plot of initial value    \n",
    "plt.plot(x,u0,label=\"Initial value\")\n",
    "plt.ylabel('u')\n",
    "plt.xlabel('x')\n",
    "plt.legend()\n",
    "\n",
    "# save solutions\n",
    "nt = int(LA1D.T/LA1D.deltaT)\n",
    "tgrid = np.linspace(0, T, nt)\n",
    "u_sol = np.zeros([nt, nx])\n",
    "\n",
    "\n",
    "# calculating solution if CFL<=1\n",
    "if LA1D.checkCFL():\n",
    "    print(\"CFL number is: \", LA1D.CFL())\n",
    "    LA1D.upwindMatrixAssembly()\n",
    "    for i in range(0, nt):\n",
    "        u_sol[i, :] = u0\n",
    "        u = LA1D.step(u0)\n",
    "        u0 = u\n",
    "else:\n",
    "    print(\"CFL number is greater than 1. CFL: \", LA1D.CFL())\n",
    "\n",
    "# ploting the last solution\n",
    "plt.plot(x,u,label=\"Solution at t = {}\".format(LA1D.T))\n",
    "plt.legend()\n",
    "plt.grid(linestyle='dotted')\n",
    "\n",
    "# save data for testing\n",
    "scipy.io.savemat(\"../data/LinearOscillator/Pure_Advection.mat\", {\n",
    "    \"xgrid\": x.reshape(1, -1),\n",
    "    \"tgrid\": tgrid.reshape(1, -1),\n",
    "    \"pmc\": u_sol\n",
    "})\n",
    "\n",
    "# save a smaller dataset\n",
    "scipy.io.savemat(\"../data/LinearOscillator/Pure_Advection_small_data.mat\", {\n",
    "    \"xgrid\": x.reshape(1, -1)[:, 0:-1:5],\n",
    "    \"tgrid\": tgrid.reshape(1, -1),\n",
    "    \"pmc\": u_sol[:, 0:-1:5]\n",
    "})"
   ]
  },
  {
   "cell_type": "code",
   "execution_count": null,
   "id": "2f464f43",
   "metadata": {},
   "outputs": [],
   "source": [
    "# inverse problem with PINN\n",
    "#data_path = \"../data/LinearOscillator/Pure_Advection.mat\"\n",
    "# subsampled spatial training data\n",
    "data_path = \"../data/LinearOscillator/Pure_Advection_small_data.mat\"\n",
    "# create PINN\n",
    "pinn = PhysicsInformedROPDF(indim=2, outdim=1, data_path=data_path, scheduler=\"ExponentialLR\")\n",
    "# testing training\n",
    "info = train(\n",
    "    pinn, pinn.optimizer, pinn.scheduler, batch_size=2**10,\n",
    "    epochs=50, batch_print=50, mode=\"all\"\n",
    ")"
   ]
  },
  {
   "cell_type": "code",
   "execution_count": null,
   "id": "19840f5c",
   "metadata": {},
   "outputs": [],
   "source": [
    "# visualize losses\n",
    "plt.figure(1, figsize=(16, 8));\n",
    "plt.plot(np.log10(info[\"pde_loss\"]), lw=2, color=\"red\");\n",
    "plt.title(\"PDE Loss vs. Epoch\");\n",
    "\n",
    "plt.figure(2, figsize=(16, 8));\n",
    "plt.plot(np.log10(info[\"data_loss\"]), lw=2, color=\"blue\");\n",
    "plt.title(\"Data Loss vs. Epoch\");\n",
    "\n",
    "# plt.figure(3, figsize=(16, 8));\n",
    "# plt.plot(np.log10(info[\"reg_loss\"]), lw=2, color=\"purple\");\n",
    "# plt.title(\"Regularity Loss vs. Epoch\");"
   ]
  },
  {
   "cell_type": "code",
   "execution_count": null,
   "id": "f2c30cf1",
   "metadata": {},
   "outputs": [],
   "source": [
    "query = cartesian_data(pinn.tgrid, pinn.xgrid)\n",
    "\n",
    "D_pred = pinn.D_nn(query).reshape(pinn.nx, pinn.nt).T.detach().numpy()\n",
    "G_pred = pinn.G_nn(query).reshape(pinn.nx, pinn.nt).T.detach().numpy()\n",
    "p_pred = pinn(query).reshape(pinn.nx, pinn.nt).T.detach().numpy()\n",
    "\n",
    "# grids\n",
    "tgrid = pinn.tgrid.detach().numpy()\n",
    "xgrid = pinn.xgrid.detach().numpy()\n",
    "\n",
    "p_exact = pinn.raw_data[\"pmc\"]\n",
    "dx = pinn.dx.item()\n",
    "dt = pinn.dt.item()"
   ]
  },
  {
   "cell_type": "code",
   "execution_count": null,
   "id": "3c0e9df1",
   "metadata": {},
   "outputs": [],
   "source": [
    "plt.figure(1);\n",
    "plt.contourf(xgrid, tgrid, G_pred);\n",
    "plt.colorbar();"
   ]
  },
  {
   "cell_type": "code",
   "execution_count": null,
   "id": "6894d9fe",
   "metadata": {},
   "outputs": [],
   "source": [
    "plt.plot(xgrid, G_pred[0:-1:50, :].T);"
   ]
  },
  {
   "cell_type": "code",
   "execution_count": null,
   "id": "76705a34",
   "metadata": {},
   "outputs": [],
   "source": [
    "plt.contourf(pinn.xgrid.detach().numpy(), pinn.tgrid.detach().numpy(), p_pred);"
   ]
  },
  {
   "cell_type": "code",
   "execution_count": null,
   "id": "8e909570",
   "metadata": {},
   "outputs": [],
   "source": [
    "plt.contourf(pinn.xgrid.detach().numpy(), pinn.tgrid.detach().numpy(), pinn.raw_data[\"pmc\"]);"
   ]
  },
  {
   "cell_type": "code",
   "execution_count": null,
   "id": "2e2a1d63",
   "metadata": {},
   "outputs": [],
   "source": [
    "plt.figure(2);\n",
    "# relative error in L^2 from KDE benchmark\n",
    "l2_rel_err = np.sum(((p_pred-p_exact)**2)*dx, 1) / np.sum((p_exact**2)*dx, 1)\n",
    "tgrid = pinn.tgrid.detach().numpy()\n",
    "plt.plot(tgrid, l2_rel_err, color=\"red\", lw=1.5);\n",
    "plt.grid(True);\n",
    "plt.title(r\"Relative error in $L^2$\");\n",
    "plt.xlabel(r\"$t$\"); \n",
    "plt.ylabel(r\"$L^2(\\mathbb{R})$ error\");"
   ]
  },
  {
   "cell_type": "code",
   "execution_count": null,
   "id": "a0319a5e",
   "metadata": {},
   "outputs": [],
   "source": [
    "plt.figure(1);\n",
    "plt.plot(xgrid, p_pred[0, :], xgrid, p_pred[-1, :], color=\"red\");\n",
    "plt.plot(xgrid, p_exact[0, :], xgrid, p_exact[-1, :], color=\"green\");"
   ]
  },
  {
   "cell_type": "code",
   "execution_count": null,
   "id": "dba718fa",
   "metadata": {},
   "outputs": [],
   "source": []
  }
 ],
 "metadata": {
  "kernelspec": {
   "display_name": "Python 3 (ipykernel)",
   "language": "python",
   "name": "python3"
  },
  "language_info": {
   "codemirror_mode": {
    "name": "ipython",
    "version": 3
   },
   "file_extension": ".py",
   "mimetype": "text/x-python",
   "name": "python",
   "nbconvert_exporter": "python",
   "pygments_lexer": "ipython3",
   "version": "3.9.16"
  }
 },
 "nbformat": 4,
 "nbformat_minor": 5
}
