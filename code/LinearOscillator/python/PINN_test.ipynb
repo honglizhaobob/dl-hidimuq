{
 "cells": [
  {
   "cell_type": "code",
   "execution_count": 1,
   "id": "b8502d88",
   "metadata": {},
   "outputs": [],
   "source": [
    "from PINN.PhysicsInformedROPDF import *\n",
    "# Testing\n",
    "import matplotlib.pyplot as plt\n",
    "import torch\n",
    "import numpy as np\n",
    "import scipy\n",
    "\n",
    "# set random seeds\n",
    "np.random.seed(10)\n",
    "torch.manual_seed(10);"
   ]
  },
  {
   "cell_type": "code",
   "execution_count": 2,
   "id": "05871b91",
   "metadata": {},
   "outputs": [],
   "source": [
    "data_path = \"../data/LinearOscillator/OU_Noise_Energy_PINN_Data.mat\"\n",
    "# create PINN\n",
    "pinn = PhysicsInformedROPDF(indim=2, outdim=1, data_path=data_path, scheduler=\"ExponentialLR\")"
   ]
  },
  {
   "cell_type": "code",
   "execution_count": null,
   "id": "f5c3f2d0",
   "metadata": {},
   "outputs": [],
   "source": [
    "# testing data loss\n",
    "# take random sample of data points\n",
    "k = 1000\n",
    "idx = np.random.choice(len(pinn.pmc), k)\n",
    "inputs_k = pinn.inputs[idx, :]\n",
    "pmc_k = pinn.pmc[idx]\n",
    "pinn.data_loss(inputs_k, pmc_k, gamma=1.0)"
   ]
  },
  {
   "cell_type": "code",
   "execution_count": null,
   "id": "7bca1121",
   "metadata": {},
   "outputs": [],
   "source": [
    "# testing gradient\n",
    "k = 1000\n",
    "idx = np.random.choice(len(pinn.pmc), k)\n",
    "inputs_k = pinn.inputs[idx, :]\n",
    "p_pred = pinn(inputs_k)\n",
    "pinn.gradient(p_pred, inputs_k)"
   ]
  },
  {
   "cell_type": "code",
   "execution_count": null,
   "id": "09405832",
   "metadata": {},
   "outputs": [],
   "source": [
    "# testing PDE loss\n",
    "k = 1000\n",
    "idx = np.random.choice(len(pinn.pmc), k)\n",
    "inputs_k = pinn.inputs[idx, :]\n",
    "pinn.domain_loss(inputs_k)"
   ]
  },
  {
   "cell_type": "code",
   "execution_count": null,
   "id": "995ddc30",
   "metadata": {},
   "outputs": [],
   "source": [
    "# testing regularity loss\n",
    "pinn.regularity_loss()"
   ]
  },
  {
   "cell_type": "code",
   "execution_count": null,
   "id": "f038db9d",
   "metadata": {},
   "outputs": [
    {
     "name": "stdout",
     "output_type": "stream",
     "text": [
      "------------------------------------------------------------------\n",
      "\n",
      "|                      Epoch 1                                  |\n",
      "\n",
      "------------------------------------------------------------------\n",
      "\n",
      "| => | Batch 1 |\n",
      "\n",
      "| => | Batch 51 |\n",
      "\n",
      "| => | Batch 101 |\n",
      "\n"
     ]
    }
   ],
   "source": [
    "# testing training\n",
    "info = train(\n",
    "    pinn, pinn.optimizer, pinn.scheduler, batch_size=2**9,\n",
    "    epochs=50, batch_print=50\n",
    ")"
   ]
  },
  {
   "cell_type": "code",
   "execution_count": null,
   "id": "80a8f618",
   "metadata": {},
   "outputs": [],
   "source": [
    "# visualize losses\n",
    "plt.figure(1, figsize=(16, 8));\n",
    "plt.plot(info[\"pde_loss\"], lw=2, color=\"red\");\n",
    "\n",
    "plt.figure(2, figsize=(16, 8));\n",
    "plt.plot(info[\"data_loss\"], lw=2, color=\"blue\");\n",
    "\n",
    "plt.figure(3, figsize=(16, 8));\n",
    "plt.plot(info[\"reg_loss\"], lw=2, color=\"purple\");"
   ]
  },
  {
   "cell_type": "code",
   "execution_count": null,
   "id": "d57d970d",
   "metadata": {},
   "outputs": [],
   "source": [
    "D_pred = pinn.D_nn(pinn.inputs).reshape(pinn.nx, pinn.nt).T.detach().numpy()\n",
    "G_pred = pinn.G_nn(pinn.inputs).reshape(pinn.nx, pinn.nt).T.detach().numpy()\n",
    "p_pred = pinn(pinn.inputs).reshape(pinn.nx, pinn.nt).T.detach().numpy()\n",
    "\n",
    "# grids\n",
    "tgrid = pinn.tgrid.detach().numpy()\n",
    "xgrid = pinn.xgrid.detach().numpy()"
   ]
  },
  {
   "cell_type": "code",
   "execution_count": null,
   "id": "f8096d2b",
   "metadata": {},
   "outputs": [],
   "source": [
    "plt.figure(1);\n",
    "plt.contourf(xgrid, tgrid, D_pred);\n",
    "plt.colorbar()\n",
    "plt.savefig(\"./fig/diffusion_nn.png\", dpi=100)"
   ]
  },
  {
   "cell_type": "code",
   "execution_count": null,
   "id": "0fc527bc",
   "metadata": {},
   "outputs": [],
   "source": [
    "plt.figure(1);\n",
    "plt.contourf(xgrid, tgrid, G_pred);\n",
    "plt.colorbar()\n",
    "plt.savefig(\"./fig/drift_nn.png\", dpi=100)"
   ]
  },
  {
   "cell_type": "code",
   "execution_count": null,
   "id": "655b727f",
   "metadata": {},
   "outputs": [],
   "source": [
    "idx = 499\n",
    "p_exact = pinn.pmc.detach().numpy().reshape(pinn.nx, pinn.nt).T\n",
    "\n",
    "plt.plot(p_pred[idx, :], label=\"pred\")\n",
    "plt.plot(p_exact[idx, :], label=\"truth\")\n",
    "plt.legend()"
   ]
  },
  {
   "cell_type": "code",
   "execution_count": null,
   "id": "d270263a",
   "metadata": {},
   "outputs": [],
   "source": [
    "plt.contourf(p_pred)"
   ]
  },
  {
   "cell_type": "code",
   "execution_count": null,
   "id": "009f4466",
   "metadata": {},
   "outputs": [],
   "source": [
    "plt.contourf(p_exact)"
   ]
  },
  {
   "cell_type": "code",
   "execution_count": null,
   "id": "da7efd7a",
   "metadata": {},
   "outputs": [],
   "source": [
    "xgrid = pinn.xgrid.detach().numpy()\n",
    "dx = xgrid[1]-xgrid[0]\n",
    "plt.figure(1);\n",
    "fig, ax = plt.subplots(2, 2);\n",
    "ax[0, 0].plot(xgrid, p_exact[0, :], label=\"KDE\", lw=1.0, color=\"red\");\n",
    "ax[0, 0].plot(xgrid, p_pred[0, :], label=\"PINN\", lw=1.0, color=\"blue\");\n",
    "ax[0, 0].set_title(r\"$t = 0$\");\n",
    "\n",
    "ax[0, 1].plot(xgrid, p_exact[125, :], label=\"KDE\", lw=1.0, color=\"red\");\n",
    "ax[0, 1].plot(xgrid, p_pred[125, :], label=\"PINN\", lw=1.0, color=\"blue\");\n",
    "ax[0, 1].set_title(r\"$t = 2.5$\");\n",
    "\n",
    "ax[1, 0].plot(xgrid, p_exact[250, :], label=\"KDE\", lw=1.0, color=\"red\");\n",
    "ax[1, 0].plot(xgrid, p_pred[250, :], label=\"PINN\", lw=1.0, color=\"blue\");\n",
    "ax[1, 0].set_title(r\"$t = 5.0$\");\n",
    "\n",
    "ax[1, 1].plot(xgrid, p_exact[-1, :], label=\"KDE\", lw=1.0, color=\"red\");\n",
    "ax[1, 1].plot(xgrid, p_pred[-1, :], label=\"PINN\", lw=1.0, color=\"blue\");\n",
    "ax[1, 1].set_title(r\"$t = 10.0$\");\n",
    "\n",
    "fig.set_figwidth(8);\n",
    "fig.tight_layout(pad=0.5);\n",
    "\n",
    "plt.savefig(\"./fig/PINN.png\", dpi=100);"
   ]
  },
  {
   "cell_type": "code",
   "execution_count": null,
   "id": "27b9bf33",
   "metadata": {},
   "outputs": [],
   "source": [
    "plt.figure(2);\n",
    "# relative error in L^2 from KDE benchmark\n",
    "l2_rel_err = np.sum(((p_pred-p_exact)**2)*dx, 1) / np.sum((p_exact**2)*dx, 1)\n",
    "tgrid = pinn.tgrid.detach().numpy()\n",
    "plt.plot(tgrid, l2_rel_err, color=\"red\", lw=1.5);\n",
    "plt.grid(True);\n",
    "plt.title(r\"Relative error in $L^2$\");\n",
    "plt.xlabel(r\"$t$\"); \n",
    "plt.ylabel(r\"$L^2(\\mathbb{R})$ error\");\n",
    "plt.savefig(\"./fig/PINN_rel_l2_err.png\", dpi=100);"
   ]
  },
  {
   "cell_type": "code",
   "execution_count": null,
   "id": "fbedfde1",
   "metadata": {},
   "outputs": [],
   "source": [
    "pinn.pmc.max()"
   ]
  },
  {
   "cell_type": "code",
   "execution_count": null,
   "id": "972a023c",
   "metadata": {},
   "outputs": [],
   "source": []
  }
 ],
 "metadata": {
  "kernelspec": {
   "display_name": "Python 3 (ipykernel)",
   "language": "python",
   "name": "python3"
  },
  "language_info": {
   "codemirror_mode": {
    "name": "ipython",
    "version": 3
   },
   "file_extension": ".py",
   "mimetype": "text/x-python",
   "name": "python",
   "nbconvert_exporter": "python",
   "pygments_lexer": "ipython3",
   "version": "3.9.16"
  }
 },
 "nbformat": 4,
 "nbformat_minor": 5
}
