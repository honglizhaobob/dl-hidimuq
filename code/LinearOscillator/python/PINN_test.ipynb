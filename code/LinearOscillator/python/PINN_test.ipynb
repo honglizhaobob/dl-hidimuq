{
 "cells": [
  {
   "cell_type": "code",
   "execution_count": 1,
   "id": "b8502d88",
   "metadata": {},
   "outputs": [],
   "source": [
    "from PINN.PhysicsInformedROPDF import *\n",
    "# Testing\n",
    "import matplotlib.pyplot as plt\n",
    "import torch\n",
    "import numpy as np\n",
    "import scipy\n",
    "\n",
    "# set random seeds\n",
    "np.random.seed(10)\n",
    "torch.manual_seed(10);"
   ]
  },
  {
   "cell_type": "code",
   "execution_count": 2,
   "id": "05871b91",
   "metadata": {},
   "outputs": [],
   "source": [
    "data_path = \"../data/LinearOscillator/OU_Noise_Energy_PINN_Data.mat\"\n",
    "# create PINN\n",
    "pinn = PhysicsInformedROPDF(indim=2, outdim=1, data_path=data_path, scheduler=\"ExponentialLR\")"
   ]
  },
  {
   "cell_type": "code",
   "execution_count": null,
   "id": "f5c3f2d0",
   "metadata": {},
   "outputs": [],
   "source": [
    "# testing data loss\n",
    "# take random sample of data points\n",
    "k = 1000\n",
    "idx = np.random.choice(len(pinn.pmc), k)\n",
    "inputs_k = pinn.inputs[idx, :]\n",
    "pmc_k = pinn.pmc[idx]\n",
    "pinn.data_loss(inputs_k, pmc_k, gamma=1.0)"
   ]
  },
  {
   "cell_type": "code",
   "execution_count": null,
   "id": "7bca1121",
   "metadata": {},
   "outputs": [],
   "source": [
    "# testing gradient\n",
    "k = 1000\n",
    "idx = np.random.choice(len(pinn.pmc), k)\n",
    "inputs_k = pinn.inputs[idx, :]\n",
    "p_pred = pinn(inputs_k)\n",
    "pinn.gradient(p_pred, inputs_k)"
   ]
  },
  {
   "cell_type": "code",
   "execution_count": null,
   "id": "09405832",
   "metadata": {},
   "outputs": [],
   "source": [
    "# testing PDE loss\n",
    "k = 1000\n",
    "idx = np.random.choice(len(pinn.pmc), k)\n",
    "inputs_k = pinn.inputs[idx, :]\n",
    "pinn.domain_loss(inputs_k)"
   ]
  },
  {
   "cell_type": "code",
   "execution_count": null,
   "id": "995ddc30",
   "metadata": {},
   "outputs": [],
   "source": [
    "# testing regularity loss\n",
    "pinn.regularity_loss()"
   ]
  },
  {
   "cell_type": "code",
   "execution_count": 3,
   "id": "f038db9d",
   "metadata": {},
   "outputs": [
    {
     "name": "stdout",
     "output_type": "stream",
     "text": [
      "------------------------------------------------------------------\n",
      "\n",
      "|                      Epoch 1                                  |\n",
      "\n",
      "------------------------------------------------------------------\n",
      "\n",
      "| => | Batch 1 |\n",
      "\n"
     ]
    },
    {
     "ename": "RuntimeError",
     "evalue": "Tensors must have same number of dimensions: got 2 and 1",
     "output_type": "error",
     "traceback": [
      "\u001b[0;31m---------------------------------------------------------------------------\u001b[0m",
      "\u001b[0;31mRuntimeError\u001b[0m                              Traceback (most recent call last)",
      "Input \u001b[0;32mIn [3]\u001b[0m, in \u001b[0;36m<cell line: 2>\u001b[0;34m()\u001b[0m\n\u001b[1;32m      1\u001b[0m \u001b[38;5;66;03m# testing training\u001b[39;00m\n\u001b[0;32m----> 2\u001b[0m info \u001b[38;5;241m=\u001b[39m \u001b[43mtrain\u001b[49m\u001b[43m(\u001b[49m\n\u001b[1;32m      3\u001b[0m \u001b[43m    \u001b[49m\u001b[43mpinn\u001b[49m\u001b[43m,\u001b[49m\u001b[43m \u001b[49m\u001b[43mpinn\u001b[49m\u001b[38;5;241;43m.\u001b[39;49m\u001b[43moptimizer\u001b[49m\u001b[43m,\u001b[49m\u001b[43m \u001b[49m\u001b[43mpinn\u001b[49m\u001b[38;5;241;43m.\u001b[39;49m\u001b[43mscheduler\u001b[49m\u001b[43m,\u001b[49m\u001b[43m \u001b[49m\u001b[43mbatch_size\u001b[49m\u001b[38;5;241;43m=\u001b[39;49m\u001b[38;5;241;43m2\u001b[39;49m\u001b[38;5;241;43m*\u001b[39;49m\u001b[38;5;241;43m*\u001b[39;49m\u001b[38;5;241;43m8\u001b[39;49m\u001b[43m,\u001b[49m\n\u001b[1;32m      4\u001b[0m \u001b[43m    \u001b[49m\u001b[43mepochs\u001b[49m\u001b[38;5;241;43m=\u001b[39;49m\u001b[38;5;241;43m50\u001b[39;49m\u001b[43m,\u001b[49m\u001b[43m \u001b[49m\u001b[43mbatch_print\u001b[49m\u001b[38;5;241;43m=\u001b[39;49m\u001b[38;5;241;43m50\u001b[39;49m\n\u001b[1;32m      5\u001b[0m \u001b[43m)\u001b[49m\n",
      "File \u001b[0;32m~/Desktop/dl-hidimuq/code/LinearOscillator/python/PINN/PhysicsInformedROPDF.py:630\u001b[0m, in \u001b[0;36mtrain\u001b[0;34m(model, optim, scheduler, batch_size, epochs, early_stopping, mode, shuffle, batch_print)\u001b[0m\n\u001b[1;32m    627\u001b[0m         train_loss\u001b[38;5;241m.\u001b[39mbackward()\n\u001b[1;32m    628\u001b[0m         \u001b[38;5;28;01mreturn\u001b[39;00m train_loss\n\u001b[0;32m--> 630\u001b[0m     \u001b[43moptim\u001b[49m\u001b[38;5;241;43m.\u001b[39;49m\u001b[43mstep\u001b[49m\u001b[43m(\u001b[49m\u001b[43mclosure\u001b[49m\u001b[38;5;241;43m=\u001b[39;49m\u001b[43mclosure\u001b[49m\u001b[43m)\u001b[49m\n\u001b[1;32m    632\u001b[0m \u001b[38;5;66;03m# ----------\u001b[39;00m\n\u001b[1;32m    633\u001b[0m \u001b[38;5;28;01mif\u001b[39;00m scheduler:\n\u001b[1;32m    634\u001b[0m     \u001b[38;5;66;03m# step scheduler after epoch if there is one\u001b[39;00m\n",
      "File \u001b[0;32m~/opt/anaconda3/lib/python3.9/site-packages/torch/optim/lr_scheduler.py:65\u001b[0m, in \u001b[0;36m_LRScheduler.__init__.<locals>.with_counter.<locals>.wrapper\u001b[0;34m(*args, **kwargs)\u001b[0m\n\u001b[1;32m     63\u001b[0m instance\u001b[38;5;241m.\u001b[39m_step_count \u001b[38;5;241m+\u001b[39m\u001b[38;5;241m=\u001b[39m \u001b[38;5;241m1\u001b[39m\n\u001b[1;32m     64\u001b[0m wrapped \u001b[38;5;241m=\u001b[39m func\u001b[38;5;241m.\u001b[39m\u001b[38;5;21m__get__\u001b[39m(instance, \u001b[38;5;28mcls\u001b[39m)\n\u001b[0;32m---> 65\u001b[0m \u001b[38;5;28;01mreturn\u001b[39;00m \u001b[43mwrapped\u001b[49m\u001b[43m(\u001b[49m\u001b[38;5;241;43m*\u001b[39;49m\u001b[43margs\u001b[49m\u001b[43m,\u001b[49m\u001b[43m \u001b[49m\u001b[38;5;241;43m*\u001b[39;49m\u001b[38;5;241;43m*\u001b[39;49m\u001b[43mkwargs\u001b[49m\u001b[43m)\u001b[49m\n",
      "File \u001b[0;32m~/opt/anaconda3/lib/python3.9/site-packages/torch/optim/optimizer.py:113\u001b[0m, in \u001b[0;36mOptimizer._hook_for_profile.<locals>.profile_hook_step.<locals>.wrapper\u001b[0;34m(*args, **kwargs)\u001b[0m\n\u001b[1;32m    111\u001b[0m profile_name \u001b[38;5;241m=\u001b[39m \u001b[38;5;124m\"\u001b[39m\u001b[38;5;124mOptimizer.step#\u001b[39m\u001b[38;5;132;01m{}\u001b[39;00m\u001b[38;5;124m.step\u001b[39m\u001b[38;5;124m\"\u001b[39m\u001b[38;5;241m.\u001b[39mformat(obj\u001b[38;5;241m.\u001b[39m\u001b[38;5;18m__class__\u001b[39m\u001b[38;5;241m.\u001b[39m\u001b[38;5;18m__name__\u001b[39m)\n\u001b[1;32m    112\u001b[0m \u001b[38;5;28;01mwith\u001b[39;00m torch\u001b[38;5;241m.\u001b[39mautograd\u001b[38;5;241m.\u001b[39mprofiler\u001b[38;5;241m.\u001b[39mrecord_function(profile_name):\n\u001b[0;32m--> 113\u001b[0m     \u001b[38;5;28;01mreturn\u001b[39;00m \u001b[43mfunc\u001b[49m\u001b[43m(\u001b[49m\u001b[38;5;241;43m*\u001b[39;49m\u001b[43margs\u001b[49m\u001b[43m,\u001b[49m\u001b[43m \u001b[49m\u001b[38;5;241;43m*\u001b[39;49m\u001b[38;5;241;43m*\u001b[39;49m\u001b[43mkwargs\u001b[49m\u001b[43m)\u001b[49m\n",
      "File \u001b[0;32m~/opt/anaconda3/lib/python3.9/site-packages/torch/autograd/grad_mode.py:27\u001b[0m, in \u001b[0;36m_DecoratorContextManager.__call__.<locals>.decorate_context\u001b[0;34m(*args, **kwargs)\u001b[0m\n\u001b[1;32m     24\u001b[0m \u001b[38;5;129m@functools\u001b[39m\u001b[38;5;241m.\u001b[39mwraps(func)\n\u001b[1;32m     25\u001b[0m \u001b[38;5;28;01mdef\u001b[39;00m \u001b[38;5;21mdecorate_context\u001b[39m(\u001b[38;5;241m*\u001b[39margs, \u001b[38;5;241m*\u001b[39m\u001b[38;5;241m*\u001b[39mkwargs):\n\u001b[1;32m     26\u001b[0m     \u001b[38;5;28;01mwith\u001b[39;00m \u001b[38;5;28mself\u001b[39m\u001b[38;5;241m.\u001b[39mclone():\n\u001b[0;32m---> 27\u001b[0m         \u001b[38;5;28;01mreturn\u001b[39;00m \u001b[43mfunc\u001b[49m\u001b[43m(\u001b[49m\u001b[38;5;241;43m*\u001b[39;49m\u001b[43margs\u001b[49m\u001b[43m,\u001b[49m\u001b[43m \u001b[49m\u001b[38;5;241;43m*\u001b[39;49m\u001b[38;5;241;43m*\u001b[39;49m\u001b[43mkwargs\u001b[49m\u001b[43m)\u001b[49m\n",
      "File \u001b[0;32m~/opt/anaconda3/lib/python3.9/site-packages/torch/optim/adam.py:118\u001b[0m, in \u001b[0;36mAdam.step\u001b[0;34m(self, closure)\u001b[0m\n\u001b[1;32m    116\u001b[0m \u001b[38;5;28;01mif\u001b[39;00m closure \u001b[38;5;129;01mis\u001b[39;00m \u001b[38;5;129;01mnot\u001b[39;00m \u001b[38;5;28;01mNone\u001b[39;00m:\n\u001b[1;32m    117\u001b[0m     \u001b[38;5;28;01mwith\u001b[39;00m torch\u001b[38;5;241m.\u001b[39menable_grad():\n\u001b[0;32m--> 118\u001b[0m         loss \u001b[38;5;241m=\u001b[39m \u001b[43mclosure\u001b[49m\u001b[43m(\u001b[49m\u001b[43m)\u001b[49m\n\u001b[1;32m    120\u001b[0m \u001b[38;5;28;01mfor\u001b[39;00m group \u001b[38;5;129;01min\u001b[39;00m \u001b[38;5;28mself\u001b[39m\u001b[38;5;241m.\u001b[39mparam_groups:\n\u001b[1;32m    121\u001b[0m     params_with_grad \u001b[38;5;241m=\u001b[39m []\n",
      "File \u001b[0;32m~/Desktop/dl-hidimuq/code/LinearOscillator/python/PINN/PhysicsInformedROPDF.py:594\u001b[0m, in \u001b[0;36mtrain.<locals>.closure\u001b[0;34m()\u001b[0m\n\u001b[1;32m    591\u001b[0m \u001b[38;5;66;03m# add initial and boundary value losses if physics was computed\u001b[39;00m\n\u001b[1;32m    592\u001b[0m \u001b[38;5;28;01mif\u001b[39;00m pde_loss \u001b[38;5;241m!=\u001b[39m \u001b[38;5;241m0\u001b[39m:\n\u001b[1;32m    593\u001b[0m     \u001b[38;5;66;03m# add initial and boundary loss\u001b[39;00m\n\u001b[0;32m--> 594\u001b[0m     initial_loss \u001b[38;5;241m=\u001b[39m \u001b[43mmodel\u001b[49m\u001b[38;5;241;43m.\u001b[39;49m\u001b[43minitial_loss\u001b[49m\u001b[43m(\u001b[49m\u001b[43mn_samples\u001b[49m\u001b[38;5;241;43m=\u001b[39;49m\u001b[43mbatch_size\u001b[49m\u001b[38;5;241;43m/\u001b[39;49m\u001b[38;5;241;43m/\u001b[39;49m\u001b[38;5;241;43m2\u001b[39;49m\u001b[43m)\u001b[49m\n\u001b[1;32m    595\u001b[0m     boundary_loss \u001b[38;5;241m=\u001b[39m model\u001b[38;5;241m.\u001b[39mboundary_loss(n_samples\u001b[38;5;241m=\u001b[39mbatch_size)\n\u001b[1;32m    596\u001b[0m \u001b[38;5;28;01melse\u001b[39;00m:\n",
      "File \u001b[0;32m~/Desktop/dl-hidimuq/code/LinearOscillator/python/PINN/PhysicsInformedROPDF.py:373\u001b[0m, in \u001b[0;36mPhysicsInformedROPDF.initial_loss\u001b[0;34m(self, n_samples)\u001b[0m\n\u001b[1;32m    371\u001b[0m \u001b[38;5;66;03m# append time \u001b[39;00m\n\u001b[1;32m    372\u001b[0m _t0 \u001b[38;5;241m=\u001b[39m torch\u001b[38;5;241m.\u001b[39mtensor([\u001b[38;5;28mself\u001b[39m\u001b[38;5;241m.\u001b[39mtmin])\u001b[38;5;241m.\u001b[39mrepeat(n_samples)\u001b[38;5;241m.\u001b[39mreshape(\u001b[38;5;241m-\u001b[39m\u001b[38;5;241m1\u001b[39m, \u001b[38;5;241m1\u001b[39m)\n\u001b[0;32m--> 373\u001b[0m _inputs \u001b[38;5;241m=\u001b[39m \u001b[43mtorch\u001b[49m\u001b[38;5;241;43m.\u001b[39;49m\u001b[43mconcat\u001b[49m\u001b[43m(\u001b[49m\n\u001b[1;32m    374\u001b[0m \u001b[43m    \u001b[49m\u001b[43m[\u001b[49m\u001b[43m_t0\u001b[49m\u001b[43m,\u001b[49m\u001b[43m \u001b[49m\u001b[43m_xgrid\u001b[49m\u001b[43m]\u001b[49m\u001b[43m,\u001b[49m\u001b[43m \u001b[49m\u001b[43mdim\u001b[49m\u001b[38;5;241;43m=\u001b[39;49m\u001b[38;5;241;43m1\u001b[39;49m\n\u001b[1;32m    375\u001b[0m \u001b[43m\u001b[49m\u001b[43m)\u001b[49m\n\u001b[1;32m    377\u001b[0m \u001b[38;5;66;03m# evaluate NN predictions \u001b[39;00m\n\u001b[1;32m    378\u001b[0m _p0_nn \u001b[38;5;241m=\u001b[39m \u001b[38;5;28mself\u001b[39m\u001b[38;5;241m.\u001b[39mp_nn(_inputs)\n",
      "\u001b[0;31mRuntimeError\u001b[0m: Tensors must have same number of dimensions: got 2 and 1"
     ]
    }
   ],
   "source": [
    "# testing training\n",
    "info = train(\n",
    "    pinn, pinn.optimizer, pinn.scheduler, batch_size=2**8,\n",
    "    epochs=50, batch_print=50\n",
    ")"
   ]
  },
  {
   "cell_type": "code",
   "execution_count": null,
   "id": "ee51e112",
   "metadata": {},
   "outputs": [],
   "source": [
    "# visualize losses\n",
    "plt.figure(1, figsize=(16, 8));\n",
    "plt.plot(info[\"pde_loss\"], lw=2, color=\"red\");\n",
    "\n",
    "plt.figure(2, figsize=(16, 8));\n",
    "plt.plot(info[\"data_loss\"], lw=2, color=\"blue\");\n",
    "\n",
    "plt.figure(3, figsize=(16, 8));\n",
    "plt.plot(info[\"reg_loss\"], lw=2, color=\"purple\");"
   ]
  },
  {
   "cell_type": "code",
   "execution_count": null,
   "id": "d57d970d",
   "metadata": {},
   "outputs": [],
   "source": [
    "D_pred = pinn.D_nn(pinn.inputs).reshape(pinn.nx, pinn.nt).T.detach().numpy()\n",
    "G_pred = pinn.G_nn(pinn.inputs).reshape(pinn.nx, pinn.nt).T.detach().numpy()\n",
    "p_pred = pinn(pinn.inputs).reshape(pinn.nx, pinn.nt).T.detach().numpy()\n",
    "\n",
    "# grids\n",
    "tgrid = pinn.tgrid.detach().numpy()\n",
    "xgrid = pinn.xgrid.detach().numpy()"
   ]
  },
  {
   "cell_type": "code",
   "execution_count": null,
   "id": "f8096d2b",
   "metadata": {},
   "outputs": [],
   "source": [
    "plt.figure(1);\n",
    "plt.contourf(xgrid, tgrid, D_pred);\n",
    "plt.colorbar()\n",
    "plt.savefig(\"./fig/diffusion_nn.png\", dpi=100)"
   ]
  },
  {
   "cell_type": "code",
   "execution_count": null,
   "id": "0fc527bc",
   "metadata": {},
   "outputs": [],
   "source": [
    "plt.figure(1);\n",
    "plt.contourf(xgrid, tgrid, G_pred);\n",
    "plt.colorbar()\n",
    "plt.savefig(\"./fig/drift_nn.png\", dpi=100)"
   ]
  },
  {
   "cell_type": "code",
   "execution_count": null,
   "id": "655b727f",
   "metadata": {},
   "outputs": [],
   "source": [
    "idx = 499\n",
    "p_exact = pinn.pmc.detach().numpy().reshape(pinn.nx, pinn.nt).T\n",
    "\n",
    "plt.plot(p_pred[idx, :], label=\"pred\")\n",
    "plt.plot(p_exact[idx, :], label=\"truth\")\n",
    "plt.legend()"
   ]
  },
  {
   "cell_type": "code",
   "execution_count": null,
   "id": "d270263a",
   "metadata": {},
   "outputs": [],
   "source": [
    "plt.contourf(p_pred)"
   ]
  },
  {
   "cell_type": "code",
   "execution_count": null,
   "id": "009f4466",
   "metadata": {},
   "outputs": [],
   "source": [
    "plt.contourf(p_exact)"
   ]
  },
  {
   "cell_type": "code",
   "execution_count": null,
   "id": "da7efd7a",
   "metadata": {},
   "outputs": [],
   "source": [
    "xgrid = pinn.xgrid.detach().numpy()\n",
    "dx = xgrid[1]-xgrid[0]\n",
    "plt.figure(1);\n",
    "fig, ax = plt.subplots(2, 2);\n",
    "ax[0, 0].plot(xgrid, p_exact[0, :], label=\"KDE\", lw=1.0, color=\"red\");\n",
    "ax[0, 0].plot(xgrid, p_pred[0, :], label=\"PINN\", lw=1.0, color=\"blue\");\n",
    "ax[0, 0].set_title(r\"$t = 0$\");\n",
    "\n",
    "ax[0, 1].plot(xgrid, p_exact[125, :], label=\"KDE\", lw=1.0, color=\"red\");\n",
    "ax[0, 1].plot(xgrid, p_pred[125, :], label=\"PINN\", lw=1.0, color=\"blue\");\n",
    "ax[0, 1].set_title(r\"$t = 2.5$\");\n",
    "\n",
    "ax[1, 0].plot(xgrid, p_exact[250, :], label=\"KDE\", lw=1.0, color=\"red\");\n",
    "ax[1, 0].plot(xgrid, p_pred[250, :], label=\"PINN\", lw=1.0, color=\"blue\");\n",
    "ax[1, 0].set_title(r\"$t = 5.0$\");\n",
    "\n",
    "ax[1, 1].plot(xgrid, p_exact[-1, :], label=\"KDE\", lw=1.0, color=\"red\");\n",
    "ax[1, 1].plot(xgrid, p_pred[-1, :], label=\"PINN\", lw=1.0, color=\"blue\");\n",
    "ax[1, 1].set_title(r\"$t = 10.0$\");\n",
    "\n",
    "fig.set_figwidth(8);\n",
    "fig.tight_layout(pad=0.5);\n",
    "\n",
    "plt.savefig(\"./fig/PINN.png\", dpi=100);"
   ]
  },
  {
   "cell_type": "code",
   "execution_count": null,
   "id": "27b9bf33",
   "metadata": {},
   "outputs": [],
   "source": [
    "plt.figure(2);\n",
    "# relative error in L^2 from KDE benchmark\n",
    "l2_rel_err = np.sum(((p_pred-p_exact)**2)*dx, 1) / np.sum((p_exact**2)*dx, 1)\n",
    "tgrid = pinn.tgrid.detach().numpy()\n",
    "plt.plot(tgrid, l2_rel_err, color=\"red\", lw=1.5);\n",
    "plt.grid(True);\n",
    "plt.title(r\"Relative error in $L^2$\");\n",
    "plt.xlabel(r\"$t$\"); \n",
    "plt.ylabel(r\"$L^2(\\mathbb{R})$ error\");\n",
    "plt.savefig(\"./fig/PINN_rel_l2_err.png\", dpi=100);"
   ]
  },
  {
   "cell_type": "markdown",
   "id": "27a7d9d2",
   "metadata": {},
   "source": [
    "## To do\n",
    "\n",
    "Simulate a constant advection, verify that the PINN implementation works (in terms of identifying the constant advection)."
   ]
  },
  {
   "cell_type": "code",
   "execution_count": null,
   "id": "be6bed72",
   "metadata": {},
   "outputs": [],
   "source": []
  },
  {
   "cell_type": "code",
   "execution_count": null,
   "id": "fd534fc6",
   "metadata": {},
   "outputs": [],
   "source": []
  }
 ],
 "metadata": {
  "kernelspec": {
   "display_name": "Python 3 (ipykernel)",
   "language": "python",
   "name": "python3"
  },
  "language_info": {
   "codemirror_mode": {
    "name": "ipython",
    "version": 3
   },
   "file_extension": ".py",
   "mimetype": "text/x-python",
   "name": "python",
   "nbconvert_exporter": "python",
   "pygments_lexer": "ipython3",
   "version": "3.9.16"
  }
 },
 "nbformat": 4,
 "nbformat_minor": 5
}
