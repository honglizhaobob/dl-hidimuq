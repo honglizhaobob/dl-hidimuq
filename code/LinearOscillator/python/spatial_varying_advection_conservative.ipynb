{
 "cells": [
  {
   "cell_type": "markdown",
   "id": "604b81ff",
   "metadata": {},
   "source": [
    "# Learning 1d Pure Advection in Conservative Form\n",
    "\n",
    "To verify that our PINN implementation is working well, we test the PINN on the following problem:\n",
    "$$\n",
    "    \\begin{cases}\n",
    "        u_t + au_x = 0\\\\\n",
    "        \\lim_{|x|\\rightarrow\\infty}u(t, x) = 0\\\\\n",
    "        u(0, x) = u_0(x)\n",
    "    \\end{cases}\n",
    "$$ where $u_0 = \\mathcal{N}(x|0, 1)$. \n",
    "\n",
    "In this case, the NN solution is assumed to have the following model (conservative advection):\n",
    "$$\n",
    "    \\frac{\\partial u_{\\theta_1}}{\\partial t} + \\frac{\\partial}{\\partial x}\\bigg(\\mathcal{V}_{\\theta_2}(x)u_{\\theta_1}\\bigg) = 0\n",
    "$$\n",
    "\n",
    "The data is generated in `constant_advection.ipynb`.\n",
    "\n",
    "In this test case, the true advection velocity is a spatially varying function."
   ]
  },
  {
   "cell_type": "markdown",
   "id": "439f086a",
   "metadata": {},
   "source": [
    "* In this example, we take the analytical solution considered in: https://www.researchgate.net/publication/235711961_Analytical_Solutions_for_Advection_and_Advection-Diffusion_Equations_with_Spatially_Variable_Coefficients\n",
    "\n",
    "The subsequent paper may also be of future interest: https://www.sciencedirect.com/science/article/pii/S0307904X99000050"
   ]
  },
  {
   "cell_type": "code",
   "execution_count": 1,
   "id": "75d749db",
   "metadata": {},
   "outputs": [],
   "source": [
    "from PINN.AdvectionNet import *\n",
    "# Testing\n",
    "import matplotlib.pyplot as plt\n",
    "import torch\n",
    "import numpy as np\n",
    "import scipy\n",
    "\n",
    "# set random seeds\n",
    "np.random.seed(10)\n",
    "torch.manual_seed(10);\n",
    "\n",
    "import numpy as np    \n",
    "import matplotlib.pyplot as plt"
   ]
  },
  {
   "cell_type": "markdown",
   "id": "db17076f",
   "metadata": {},
   "source": [
    "The analytic solutio is given by (quasi-Gaussian profile case):\n",
    "$$\n",
    "    u(t, x) = \\frac{M_0}{x\\sigma\\sqrt{2\\pi}}\\exp\\bigg(\n",
    "        -\\frac{[\\ln (x/x_0) - u_0t]^2}{2\\sigma^2}\n",
    "    \\bigg)\n",
    "$$ where $M_0$ is the mass that is conserved. The above expression satisfies the conservative advection:\n",
    "$$\n",
    "    \\frac{\\partial u}{\\partial t} + \\frac{\\partial}{\\partial x}\\bigg(\n",
    "        v(x)u\n",
    "    \\bigg) = 0\n",
    "$$ where $v(x) = u_0x$. $x\\in (0, \\infty)$ with vanishing boundary condition. "
   ]
  },
  {
   "cell_type": "code",
   "execution_count": 6,
   "id": "f7c7178b",
   "metadata": {},
   "outputs": [],
   "source": [
    "# define computational grids\n",
    "xmin, xmax = 0.5, 4.5\n",
    "nx = 2000\n",
    "xgrid = np.linspace(xmin, xmax, nx)\n",
    "dx = xgrid[1]-xgrid[0]\n",
    "# define cell centers\n",
    "xgrid_center = xgrid+0.5*dx\n",
    "xgrid_center = xgrid_center[:-1]\n",
    "\n",
    "dt = 0.001\n",
    "tmax = 5.0\n",
    "tgrid = np.arange(0, tmax, dt)\n",
    "nt = len(tgrid)\n"
   ]
  },
  {
   "cell_type": "markdown",
   "id": "a4ec46a0",
   "metadata": {},
   "source": [
    "# TODO:\n",
    "\n",
    "simulate the equation with $v(t)$ in this case the conservative and nonconservative are the same so you can test it with the conservative PINN and then we can rtake $v(t)=\\sin(t)$ to see how well the net learns high frequency function, specifically once you do the fourier features you need to show an improvement to learning the $v(t)$"
   ]
  },
  {
   "cell_type": "code",
   "execution_count": null,
   "id": "31bcff78",
   "metadata": {},
   "outputs": [],
   "source": []
  }
 ],
 "metadata": {
  "kernelspec": {
   "display_name": "Python 3 (ipykernel)",
   "language": "python",
   "name": "python3"
  },
  "language_info": {
   "codemirror_mode": {
    "name": "ipython",
    "version": 3
   },
   "file_extension": ".py",
   "mimetype": "text/x-python",
   "name": "python",
   "nbconvert_exporter": "python",
   "pygments_lexer": "ipython3",
   "version": "3.9.16"
  }
 },
 "nbformat": 4,
 "nbformat_minor": 5
}
