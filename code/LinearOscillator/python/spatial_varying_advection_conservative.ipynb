{
 "cells": [
  {
   "cell_type": "markdown",
   "id": "c62d5555",
   "metadata": {},
   "source": [
    "# Learning 1d Pure Advection in Conservative Form\n",
    "\n",
    "To verify that our PINN implementation is working well, we test the PINN on the following problem:\n",
    "$$\n",
    "    \\begin{cases}\n",
    "        u_t + au_x = 0\\\\\n",
    "        \\lim_{|x|\\rightarrow\\infty}u(t, x) = 0\\\\\n",
    "        u(0, x) = u_0(x)\n",
    "    \\end{cases}\n",
    "$$ where $u_0 = \\mathcal{N}(x|0, 1)$. \n",
    "\n",
    "In this case, the NN solution is assumed to have the following model (conservative advection):\n",
    "$$\n",
    "    \\frac{\\partial u_{\\theta_1}}{\\partial t} + \\frac{\\partial}{\\partial x}\\bigg(\\mathcal{V}_{\\theta_2}(x)u_{\\theta_1}\\bigg) = 0\n",
    "$$\n",
    "\n",
    "The data is generated in `constant_advection.ipynb`.\n",
    "\n",
    "In this test case, the true advection velocity is a spatially varying function."
   ]
  },
  {
   "cell_type": "markdown",
   "id": "30a31706",
   "metadata": {},
   "source": [
    "* In this example, we take the analytical solution considered in: https://www.researchgate.net/publication/235711961_Analytical_Solutions_for_Advection_and_Advection-Diffusion_Equations_with_Spatially_Variable_Coefficients\n",
    "\n",
    "The subsequent paper may also be of future interest: https://www.sciencedirect.com/science/article/pii/S0307904X99000050"
   ]
  },
  {
   "cell_type": "code",
   "execution_count": null,
   "id": "6a80cc5f",
   "metadata": {},
   "outputs": [],
   "source": [
    "from PINN.AdvectionNet import *\n",
    "# Testing\n",
    "import matplotlib.pyplot as plt\n",
    "import torch\n",
    "import numpy as np\n",
    "import scipy\n",
    "\n",
    "# set random seeds\n",
    "np.random.seed(10)\n",
    "torch.manual_seed(10);\n",
    "\n",
    "import numpy as np    \n",
    "import matplotlib.pyplot as plt"
   ]
  },
  {
   "cell_type": "markdown",
   "id": "0d5af8d3",
   "metadata": {},
   "source": [
    "The analytic solutio is given by (quasi-Gaussian profile case):\n",
    "$$\n",
    "    u(t, x) = \\frac{M_0}{x\\sigma\\sqrt{2\\pi}}\\exp\\bigg(\n",
    "        -\\frac{[\\ln (x/x_0) - u_0t]^2}{2\\sigma^2}\n",
    "    \\bigg)\n",
    "$$ where $M_0$ is the mass that is conserved. The above expression satisfies the conservative advection:\n",
    "$$\n",
    "    \\frac{\\partial u}{\\partial t} + \\frac{\\partial}{\\partial x}\\bigg(\n",
    "        v(x)u\n",
    "    \\bigg) = 0\n",
    "$$ where $v(x) = u_0x$. $x\\in (0, \\infty)$ with vanishing boundary condition. "
   ]
  },
  {
   "cell_type": "code",
   "execution_count": null,
   "id": "3f72837e",
   "metadata": {},
   "outputs": [],
   "source": [
    "# define computational grids\n",
    "xmin, xmax = 0.05, 4.0\n",
    "nx = 2000\n",
    "xgrid = np.linspace(xmin, xmax, nx)\n",
    "dx = xgrid[1]-xgrid[0]\n",
    "\n",
    "dt = 0.01\n",
    "tmax = 20.0\n",
    "tgrid = np.arange(0, tmax, dt)\n",
    "nt = len(tgrid)\n",
    "\n",
    "# compute solution\n",
    "M0 = 1.0\n",
    "u0 = 0.1\n",
    "sigma = 0.2\n",
    "c0 = 10.0\n",
    "x0 = 0.2\n",
    "u_sol = np.zeros([nt, nx])\n",
    "for i in range(nt):\n",
    "    t = tgrid[i]\n",
    "    u_sol[i, :] = ( M0/(xgrid*sigma*np.sqrt(2*np.pi)) ) * np.exp(-((np.log(xgrid / x0)-u0*t)**2/(2*(sigma**2))))"
   ]
  },
  {
   "cell_type": "code",
   "execution_count": null,
   "id": "c824a860",
   "metadata": {
    "scrolled": false
   },
   "outputs": [],
   "source": [
    "plt.figure(1);\n",
    "for i in range(nt):\n",
    "    if i % 400 == 0:\n",
    "        plt.plot(xgrid, u_sol[i, :], \"--\", lw=2.0, label=r\"$t = {}$\".format(i*dt));\n",
    "plt.plot(xgrid, u_sol[-1, :], \"--\", lw=2.0, label=r\"$t = {}$\".format(nt*dt));\n",
    "plt.title(\"PDE solution\");\n",
    "plt.legend();\n",
    "\n",
    "plt.figure(2);\n",
    "plt.contourf(tgrid, xgrid, u_sol);\n",
    "plt.ylabel(r\"$x$\"); plt.xlabel(r\"$t$\");\n",
    "plt.title(\"Contour of PDE solution\");\n",
    "\n",
    "plt.figure(3);\n",
    "plt.plot(xgrid, u0*xgrid, lw=5.0, label=r\"Velocity $v(x)$\", color=\"red\", alpha=0.6);\n",
    "plt.legend();"
   ]
  },
  {
   "cell_type": "code",
   "execution_count": null,
   "id": "d5c7f65b",
   "metadata": {},
   "outputs": [],
   "source": [
    "# save data for PINN training\n",
    "scipy.io.savemat(\"../data/LinearOscillator/Variable_Advection_Conservative.mat\", {\n",
    "    \"xgrid\": xgrid.reshape(1, -1),\n",
    "    \"tgrid\": tgrid.reshape(1, -1),\n",
    "    \"pmc\": u_sol\n",
    "})\n",
    "\n",
    "# save a smaller dataset\n",
    "subsample_t = 4\n",
    "subsample_x = 2\n",
    "xgrid_small = xgrid.reshape(1, -1)[:, 0:-1:subsample_x].squeeze(),\n",
    "tgrid_small = tgrid.reshape(1, -1)[:, 0:-1:subsample_t].squeeze()\n",
    "u_sol_small = u_sol[0:-1:subsample_t, 0:-1:subsample_x]\n",
    "scipy.io.savemat(\"../data/LinearOscillator/Variable_Advection_Conservative_small.mat\", {\n",
    "    \"xgrid\": xgrid_small,\n",
    "    \"tgrid\": tgrid_small,\n",
    "    \"pmc\": u_sol_small\n",
    "})\n",
    "print(\"Training data size = {}\\n\".format(u_sol_small.shape))"
   ]
  },
  {
   "cell_type": "code",
   "execution_count": null,
   "id": "a6b97fc4",
   "metadata": {
    "scrolled": true
   },
   "outputs": [],
   "source": [
    "# PINN experiments\n",
    "# subsampled spatial training data\n",
    "data_path = \"../data/LinearOscillator/Variable_Advection_Conservative_small.mat\"\n",
    "# create PINN\n",
    "pinn = AdvectionNet(indim=2, outdim=1, data_path=data_path, scheduler=\"ExponentialLR\")\n",
    "# testing training\n",
    "info = train(\n",
    "    pinn, pinn.optimizer, pinn.scheduler, batch_size=2**8,\n",
    "    epochs=200, batch_print=200, mode=\"all\", conservative_pde=True\n",
    ")"
   ]
  },
  {
   "cell_type": "code",
   "execution_count": null,
   "id": "214bd135",
   "metadata": {},
   "outputs": [],
   "source": [
    "# visualize losses\n",
    "plt.figure(1, figsize=(16, 8));\n",
    "plt.plot(np.log10(info[\"pde_loss\"]), lw=2, color=\"red\");\n",
    "plt.title(\"PDE Loss vs. Epoch\");\n",
    "\n",
    "plt.figure(2, figsize=(16, 8));\n",
    "plt.plot(np.log10(info[\"data_loss\"]), lw=2, color=\"blue\");\n",
    "plt.title(\"Data Loss vs. Epoch\");\n",
    "\n",
    "# plt.figure(3, figsize=(16, 8));\n",
    "# plt.plot(np.log10(info[\"reg_loss\"]), lw=2, color=\"purple\");\n",
    "# plt.title(\"Regularity Loss vs. Epoch\");\n",
    "query = cartesian_data(pinn.tgrid, pinn.xgrid)\n",
    "\n",
    "# D_pred = pinn.D_nn(query).reshape(pinn.nx, pinn.nt).T.detach().numpy()\n",
    "# G_pred = pinn.G_nn(query).reshape(pinn.nx, pinn.nt).T.detach().numpy()\n",
    "p_pred = pinn(query).reshape(pinn.nx, pinn.nt).T.detach().numpy()\n",
    "\n",
    "# grids\n",
    "tgrid = pinn.tgrid.detach().numpy()\n",
    "xgrid = pinn.xgrid.detach().numpy()\n",
    "\n",
    "p_exact = pinn.raw_data[\"pmc\"]\n",
    "dx = pinn.dx.item()\n",
    "dt = pinn.dt.item()\n",
    "\n",
    "# plt.figure(1);\n",
    "# plt.contourf(xgrid, tgrid, G_pred);\n",
    "# plt.colorbar();\n",
    "\n",
    "# plt.figure(2);\n",
    "# plt.plot(xgrid, G_pred[0:-1:10, :].T, alpha=0.4, lw=1.5);\n",
    "# plt.plot(xgrid, 1.1*np.ones_like(xgrid), \"--\", lw=4.5, color=\"red\", alpha=0.8, label=\"exact\");\n",
    "# plt.legend();"
   ]
  },
  {
   "cell_type": "code",
   "execution_count": null,
   "id": "bf6e38ea",
   "metadata": {},
   "outputs": [],
   "source": [
    "inputs = cartesian_data(pinn.tgrid, pinn.xgrid)\n",
    "G_pred = pinn.G_nn(inputs[:, 1][:, None]).reshape(pinn.nx, pinn.nt).T.detach().numpy()\n",
    "p_pred = pinn(inputs).reshape(pinn.nx, pinn.nt).T.detach().numpy()"
   ]
  },
  {
   "cell_type": "code",
   "execution_count": null,
   "id": "c9acf617",
   "metadata": {},
   "outputs": [],
   "source": [
    "plt.figure(1);\n",
    "plt.plot(pinn.xgrid.detach().numpy(), G_pred[0, :], color=\"red\");\n",
    "plt.plot(xgrid, u0*xgrid, lw=5.0, label=r\"Velocity $v(x)$\", color=\"blue\", alpha=0.6);\n",
    "plt.xlabel(r\"$x$\");\n",
    "plt.ylabel(r\"$G(x)$\");"
   ]
  },
  {
   "cell_type": "code",
   "execution_count": null,
   "id": "2d716306",
   "metadata": {},
   "outputs": [],
   "source": [
    "# interpolation\n",
    "plt.contourf(pinn.xgrid.detach().numpy(), pinn.tgrid.detach().numpy(), p_pred);"
   ]
  },
  {
   "cell_type": "code",
   "execution_count": null,
   "id": "1c5bcad6",
   "metadata": {},
   "outputs": [],
   "source": [
    "dx = dx.item()"
   ]
  },
  {
   "cell_type": "code",
   "execution_count": null,
   "id": "5ffe5570",
   "metadata": {},
   "outputs": [],
   "source": [
    "plt.figure(2);\n",
    "# relative error in L^2 from KDE benchmark\n",
    "l2_rel_err = np.sum(((p_pred-p_exact)**2)*dx, 1) / np.sum((p_exact**2)*dx, 1)\n",
    "tgrid = pinn.tgrid.detach().numpy()\n",
    "plt.plot(tgrid, l2_rel_err, color=\"red\", lw=1.5);\n",
    "plt.grid(True);\n",
    "plt.title(r\"Relative error in $L^2$\");\n",
    "plt.xlabel(r\"$t$\"); \n",
    "plt.ylabel(r\"$L^2(\\mathbb{R})$ error\");"
   ]
  },
  {
   "cell_type": "code",
   "execution_count": null,
   "id": "f054abd2",
   "metadata": {},
   "outputs": [],
   "source": [
    "model_path = \"./PINN/models/linear_advection_conservative_epoch_200\"\n",
    "torch.save(pinn.state_dict(), model_path)"
   ]
  },
  {
   "cell_type": "code",
   "execution_count": null,
   "id": "40e7025c",
   "metadata": {},
   "outputs": [],
   "source": []
  }
 ],
 "metadata": {
  "kernelspec": {
   "display_name": "Python 3 (ipykernel)",
   "language": "python",
   "name": "python3"
  },
  "language_info": {
   "codemirror_mode": {
    "name": "ipython",
    "version": 3
   },
   "file_extension": ".py",
   "mimetype": "text/x-python",
   "name": "python",
   "nbconvert_exporter": "python",
   "pygments_lexer": "ipython3",
   "version": "3.9.16"
  }
 },
 "nbformat": 4,
 "nbformat_minor": 5
}
