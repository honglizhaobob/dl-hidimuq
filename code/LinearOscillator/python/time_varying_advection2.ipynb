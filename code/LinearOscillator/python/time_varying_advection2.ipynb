{
 "cells": [
  {
   "cell_type": "markdown",
   "id": "c3793dcc",
   "metadata": {},
   "source": [
    "# Learning 1d Pure Advection in Conservative Form\n",
    "\n",
    "To verify that our PINN implementation is working well, we test the PINN on the following problem:\n",
    "$$\n",
    "    \\begin{cases}\n",
    "        u_t + a(t)u_x = 0\\\\\n",
    "        \\lim_{|x|\\rightarrow\\infty}u(t, x) = 0\\\\\n",
    "        u(0, x) = u_0(x)\n",
    "    \\end{cases}\n",
    "$$ where $u_0 = \\mathcal{N}(x|0, 1)$. \n",
    "\n",
    "In this case, the NN solution is assumed to have the following model (conservative advection):\n",
    "$$\n",
    "    \\frac{\\partial u_{\\theta_1}}{\\partial t} + \\frac{\\partial}{\\partial x}\\bigg(\\mathcal{V}_{\\theta_2}(t)u_{\\theta_1}\\bigg) = 0\n",
    "$$\n",
    "\n",
    "In this test case, the true advection velocity is a time-varying function, no spatial dependence. Furthermore, since the coefficient neural network is a time-dependent function, the conservative and non-conservative form of the PDE coincide. In this notebook, we generate data from such a PDE and test the PINN learning in both conservative mode and non-conservative mode.\n",
    "\n",
    "In this note, we use the Fourier embedded deep neural nets to overcome the high frequency in time domain."
   ]
  },
  {
   "cell_type": "code",
   "execution_count": null,
   "id": "015f29a4",
   "metadata": {},
   "outputs": [],
   "source": [
    "from PINN.AdvectionNet import *\n",
    "# Testing\n",
    "import matplotlib.pyplot as plt\n",
    "import torch\n",
    "import numpy as np\n",
    "import scipy\n",
    "\n",
    "# set random seeds\n",
    "np.random.seed(10)\n",
    "torch.manual_seed(10);\n",
    "\n",
    "import numpy as np    \n",
    "import matplotlib.pyplot as plt\n",
    "\n",
    "import time\n",
    "import pylab as pl\n",
    "from IPython import display\n",
    "from IPython.display import clear_output"
   ]
  },
  {
   "cell_type": "markdown",
   "id": "05f33fe2",
   "metadata": {},
   "source": [
    "# Experiment 1: High Frequency with Vanilla NN\n",
    "\n",
    "Consider the following PDE, taken from: https://scullen.com.au/DSc/Publications/scullen_92.pdf (Page 44)\n",
    "\n",
    "$$\n",
    "    \\frac{\\partial u}{\\partial t} + v_0\\sin(\\omega t)\\frac{\\partial u}{\\partial x} = 0\n",
    "$$ which admits an analytical solution:\n",
    "$$\n",
    "    u(t,x) = \\exp\\bigg(\n",
    "        -k[x - x_0 - 2v_0\\omega^{-1}\\sin^2(\\frac{1}{2}\\omega t)]^2\n",
    "    \\bigg)\n",
    "$$ with parameters $k, x_0$ from the initial condition."
   ]
  },
  {
   "cell_type": "code",
   "execution_count": null,
   "id": "6fd1d627",
   "metadata": {},
   "outputs": [],
   "source": [
    "# parameters\n",
    "x0 = 2.0\n",
    "v0 = 2.0\n",
    "k = 5.0\n",
    "omega = 2.0*np.pi\n",
    "# time grid\n",
    "t_start = 0.0\n",
    "t_end = 2*np.pi\n",
    "dt = 0.001\n",
    "tgrid = np.arange(t_start, t_end, dt)\n",
    "nt = len(tgrid)\n",
    "# spatial grid\n",
    "x_left, x_right = 0.0, 5.0\n",
    "dx = 0.005\n",
    "xgrid = np.arange(x_left, x_right, dx)\n",
    "nx = len(xgrid)\n",
    "\n",
    "# solution\n",
    "u_sol = np.zeros([nt, nx])\n",
    "for i in range(nt):\n",
    "    t = tgrid[i]\n",
    "    u_sol[i, :] = np.exp(-k * (( xgrid - x0 ) - (2*v0/omega) * (np.sin(0.5*omega*t) ** 2)) ** 2 )"
   ]
  },
  {
   "cell_type": "code",
   "execution_count": null,
   "id": "e6708ea7",
   "metadata": {},
   "outputs": [],
   "source": [
    "# plot velocity as a function of time\n",
    "plt.figure(2);\n",
    "plt.plot(tgrid, v0*np.sin(omega*tgrid), \"--\", color=\"blue\", alpha=0.6, lw=4.0);\n",
    "plt.xlabel(r\"$t$\"); plt.ylabel(r\"Velocity (High Frequency)\");"
   ]
  },
  {
   "cell_type": "code",
   "execution_count": null,
   "id": "560db494",
   "metadata": {},
   "outputs": [],
   "source": [
    "# save data for PINN training\n",
    "scipy.io.savemat(\"../data/LinearOscillator/Time_Variable_Advection.mat\", {\n",
    "    \"xgrid\": xgrid.reshape(1, -1),\n",
    "    \"tgrid\": tgrid.reshape(1, -1),\n",
    "    \"pmc\": u_sol\n",
    "})\n",
    "\n",
    "# save a smaller dataset\n",
    "subsample_t = 6\n",
    "subsample_x = 2\n",
    "xgrid_small = xgrid.reshape(1, -1)[:, 0:-1:subsample_x].squeeze(),\n",
    "tgrid_small = tgrid.reshape(1, -1)[:, 0:-1:subsample_t].squeeze()\n",
    "u_sol_small = u_sol[0:-1:subsample_t, 0:-1:subsample_x]\n",
    "scipy.io.savemat(\"../data/LinearOscillator/Time_Variable_Advection_small.mat\", {\n",
    "    \"xgrid\": xgrid_small,\n",
    "    \"tgrid\": tgrid_small,\n",
    "    \"pmc\": u_sol_small\n",
    "})\n",
    "print(\"Training data size = {}\\n\".format(u_sol_small.shape))"
   ]
  },
  {
   "cell_type": "code",
   "execution_count": null,
   "id": "c4d6ecb6",
   "metadata": {},
   "outputs": [],
   "source": [
    "# PINN experiments\n",
    "data_path = \"../data/LinearOscillator/Time_Variable_Advection_small.mat\"\n",
    "# create PINN\n",
    "pinn = AdvectionNet(indim=2, outdim=1, data_path=data_path, scheduler=\"ExponentialLR\", coef_mode=\"time\")\n",
    "# testing training\n",
    "info = train(\n",
    "    pinn, pinn.optimizer, pinn.scheduler, batch_size=2**10,\n",
    "    epochs=200, batch_print=200, mode=\"all\", conservative_pde=True\n",
    ")"
   ]
  },
  {
   "cell_type": "code",
   "execution_count": null,
   "id": "560fe6e2",
   "metadata": {},
   "outputs": [],
   "source": [
    "inputs = cartesian_data(pinn.tgrid, pinn.xgrid)\n",
    "G_pred = pinn.G_nn(inputs[:, 0][:, None]).reshape([pinn.nx, pinn.nt]).detach().numpy().T\n",
    "# spatial and temporal grid\n",
    "tgrid = pinn.tgrid.detach().numpy()\n",
    "xgrid = pinn.xgrid.detach().numpy()"
   ]
  },
  {
   "cell_type": "code",
   "execution_count": null,
   "id": "3bdac8cb",
   "metadata": {},
   "outputs": [],
   "source": [
    "plt.plot(tgrid, G_pred[:, 0], color=\"red\", lw=2.0, label=\"predicted\");\n",
    "plt.plot(tgrid, v0*np.sin(omega*tgrid), \"--\", color=\"blue\", alpha=0.6, lw=4.0);\n",
    "plt.title(\"Inferred advection coefficient as a function of time (Fourier Net)\");\n",
    "plt.legend();"
   ]
  },
  {
   "cell_type": "code",
   "execution_count": null,
   "id": "3c299d42",
   "metadata": {},
   "outputs": [],
   "source": []
  }
 ],
 "metadata": {
  "kernelspec": {
   "display_name": "Python 3 (ipykernel)",
   "language": "python",
   "name": "python3"
  },
  "language_info": {
   "codemirror_mode": {
    "name": "ipython",
    "version": 3
   },
   "file_extension": ".py",
   "mimetype": "text/x-python",
   "name": "python",
   "nbconvert_exporter": "python",
   "pygments_lexer": "ipython3",
   "version": "3.9.16"
  }
 },
 "nbformat": 4,
 "nbformat_minor": 5
}
